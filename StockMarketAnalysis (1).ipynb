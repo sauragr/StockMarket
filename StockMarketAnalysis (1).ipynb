{
 "cells": [
  {
   "cell_type": "code",
   "execution_count": 93,
   "id": "77ff0a11-4a4f-48ac-8221-f21fc87a89a3",
   "metadata": {},
   "outputs": [
    {
     "name": "stdout",
     "output_type": "stream",
     "text": [
      "Note: you may need to restart the kernel to use updated packages.\n",
      "Requirement already satisfied: mysql-connector-python in c:\\users\\lenovo\\appdata\\local\\programs\\python\\python312\\lib\\site-packages (9.2.0)\n",
      "Requirement already satisfied: sqlalchemy in c:\\users\\lenovo\\appdata\\local\\programs\\python\\python312\\lib\\site-packages (2.0.38)\n",
      "Requirement already satisfied: yfinance in c:\\users\\lenovo\\appdata\\local\\programs\\python\\python312\\lib\\site-packages (0.2.54)\n",
      "Requirement already satisfied: pandas in c:\\users\\lenovo\\appdata\\local\\programs\\python\\python312\\lib\\site-packages (2.2.3)"
     ]
    },
    {
     "name": "stderr",
     "output_type": "stream",
     "text": [
      "\n",
      "[notice] A new release of pip is available: 24.0 -> 25.0.1\n",
      "[notice] To update, run: python.exe -m pip install --upgrade pip\n"
     ]
    },
    {
     "name": "stdout",
     "output_type": "stream",
     "text": [
      "\n",
      "Requirement already satisfied: greenlet!=0.4.17 in c:\\users\\lenovo\\appdata\\local\\programs\\python\\python312\\lib\\site-packages (from sqlalchemy) (3.1.1)\n",
      "Requirement already satisfied: typing-extensions>=4.6.0 in c:\\users\\lenovo\\appdata\\local\\programs\\python\\python312\\lib\\site-packages (from sqlalchemy) (4.12.2)\n",
      "Requirement already satisfied: numpy>=1.16.5 in c:\\users\\lenovo\\appdata\\local\\programs\\python\\python312\\lib\\site-packages (from yfinance) (2.2.0)\n",
      "Requirement already satisfied: requests>=2.31 in c:\\users\\lenovo\\appdata\\local\\programs\\python\\python312\\lib\\site-packages (from yfinance) (2.32.3)\n",
      "Requirement already satisfied: multitasking>=0.0.7 in c:\\users\\lenovo\\appdata\\local\\programs\\python\\python312\\lib\\site-packages (from yfinance) (0.0.11)\n",
      "Requirement already satisfied: platformdirs>=2.0.0 in c:\\users\\lenovo\\appdata\\local\\programs\\python\\python312\\lib\\site-packages (from yfinance) (4.3.6)\n",
      "Requirement already satisfied: pytz>=2022.5 in c:\\users\\lenovo\\appdata\\local\\programs\\python\\python312\\lib\\site-packages (from yfinance) (2024.2)\n",
      "Requirement already satisfied: frozendict>=2.3.4 in c:\\users\\lenovo\\appdata\\local\\programs\\python\\python312\\lib\\site-packages (from yfinance) (2.4.6)\n",
      "Requirement already satisfied: peewee>=3.16.2 in c:\\users\\lenovo\\appdata\\local\\programs\\python\\python312\\lib\\site-packages (from yfinance) (3.17.9)\n",
      "Requirement already satisfied: beautifulsoup4>=4.11.1 in c:\\users\\lenovo\\appdata\\local\\programs\\python\\python312\\lib\\site-packages (from yfinance) (4.12.3)\n",
      "Requirement already satisfied: python-dateutil>=2.8.2 in c:\\users\\lenovo\\appdata\\local\\programs\\python\\python312\\lib\\site-packages (from pandas) (2.9.0.post0)\n",
      "Requirement already satisfied: tzdata>=2022.7 in c:\\users\\lenovo\\appdata\\local\\programs\\python\\python312\\lib\\site-packages (from pandas) (2024.2)\n",
      "Requirement already satisfied: soupsieve>1.2 in c:\\users\\lenovo\\appdata\\local\\programs\\python\\python312\\lib\\site-packages (from beautifulsoup4>=4.11.1->yfinance) (2.6)\n",
      "Requirement already satisfied: six>=1.5 in c:\\users\\lenovo\\appdata\\local\\programs\\python\\python312\\lib\\site-packages (from python-dateutil>=2.8.2->pandas) (1.17.0)\n",
      "Requirement already satisfied: charset-normalizer<4,>=2 in c:\\users\\lenovo\\appdata\\local\\programs\\python\\python312\\lib\\site-packages (from requests>=2.31->yfinance) (3.4.0)\n",
      "Requirement already satisfied: idna<4,>=2.5 in c:\\users\\lenovo\\appdata\\local\\programs\\python\\python312\\lib\\site-packages (from requests>=2.31->yfinance) (3.10)\n",
      "Requirement already satisfied: urllib3<3,>=1.21.1 in c:\\users\\lenovo\\appdata\\local\\programs\\python\\python312\\lib\\site-packages (from requests>=2.31->yfinance) (2.2.3)\n",
      "Requirement already satisfied: certifi>=2017.4.17 in c:\\users\\lenovo\\appdata\\local\\programs\\python\\python312\\lib\\site-packages (from requests>=2.31->yfinance) (2024.8.30)\n"
     ]
    }
   ],
   "source": [
    "%pip install mysql-connector-python sqlalchemy yfinance pandas\n"
   ]
  },
  {
   "cell_type": "code",
   "execution_count": 94,
   "id": "ff0b4033-7e2e-49d9-9167-f26650f387b7",
   "metadata": {},
   "outputs": [],
   "source": [
    "import mysql.connector\n",
    "import pandas as pd\n",
    "import yfinance as yf\n",
    "from sqlalchemy import create_engine"
   ]
  },
  {
   "cell_type": "code",
   "execution_count": 95,
   "id": "aff29073-d25d-4c4c-9081-d82073ba824c",
   "metadata": {},
   "outputs": [],
   "source": [
    "db_user = \"root\"\n",
    "db_password = \"welcome2u\"\n",
    "db_host = \"localhost\"  # Change if using a remote server\n",
    "db_name = \"stock_market\""
   ]
  },
  {
   "cell_type": "code",
   "execution_count": 96,
   "id": "a9ac90e0-c27a-4f23-831f-89064ef86ecb",
   "metadata": {},
   "outputs": [],
   "source": [
    "engine = create_engine(f\"mysql+mysqlconnector://{db_user}:{db_password}@{db_host}/{db_name}\",echo = True)"
   ]
  },
  {
   "cell_type": "code",
   "execution_count": 97,
   "id": "b0efd1a8-3468-48eb-be3f-26f9b11bd9fe",
   "metadata": {},
   "outputs": [],
   "source": [
    "#fetching stock data\n",
    "ticker = \"AAPL\""
   ]
  },
  {
   "cell_type": "code",
   "execution_count": 98,
   "id": "142ee0de-129b-4226-a260-5a6399c93b6d",
   "metadata": {},
   "outputs": [
    {
     "name": "stdout",
     "output_type": "stream",
     "text": [
      "Real-time price for AAPL:                                  Open        High         Low  Close  \\\n",
      "Date                                                                   \n",
      "2025-03-17 00:00:00-04:00  213.309998  215.220001  209.970001  214.0   \n",
      "\n",
      "                             Volume  Dividends  Stock Splits  \n",
      "Date                                                          \n",
      "2025-03-17 00:00:00-04:00  48042800        0.0           0.0  \n"
     ]
    }
   ],
   "source": [
    "#Prices of last closing date -  Ticker object\n",
    "stock = yf.Ticker(ticker)\n",
    "price = stock.history(period=\"1d\")\n",
    "print(f\"Real-time price for {ticker}: {price}\")"
   ]
  },
  {
   "cell_type": "code",
   "execution_count": 99,
   "id": "716a314f-fd8a-499c-95a2-9ee722364fe0",
   "metadata": {},
   "outputs": [
    {
     "name": "stderr",
     "output_type": "stream",
     "text": [
      "\n",
      "*********************100%***********************]  1 of 1 completed"
     ]
    },
    {
     "name": "stdout",
     "output_type": "stream",
     "text": [
      "<class 'pandas.core.frame.DataFrame'>\n",
      "RangeIndex: 1005 entries, 0 to 1004\n",
      "Data columns (total 6 columns):\n",
      " #   Column          Non-Null Count  Dtype         \n",
      "---  ------          --------------  -----         \n",
      " 0   (Date, )        1005 non-null   datetime64[ns]\n",
      " 1   (Close, AAPL)   1005 non-null   float64       \n",
      " 2   (High, AAPL)    1005 non-null   float64       \n",
      " 3   (Low, AAPL)     1005 non-null   float64       \n",
      " 4   (Open, AAPL)    1005 non-null   float64       \n",
      " 5   (Volume, AAPL)  1005 non-null   int64         \n",
      "dtypes: datetime64[ns](1), float64(4), int64(1)\n",
      "memory usage: 47.2 KB\n"
     ]
    }
   ],
   "source": [
    "df = yf.download(ticker, start=\"2021-01-01\", end=\"2025-01-01\", interval=\"1d\")\n",
    "df.reset_index(inplace=True)\n",
    "df.info()"
   ]
  },
  {
   "cell_type": "code",
   "execution_count": 100,
   "id": "9c93652f-7a4d-4f85-b43a-ae4110ca492f",
   "metadata": {},
   "outputs": [],
   "source": [
    "df.columns = ['market_date', 'close_price',\n",
    "             'high_price', 'low_price',\n",
    "             'open_price', 'volume']"
   ]
  },
  {
   "cell_type": "code",
   "execution_count": 101,
   "id": "5a1c2d92-90b4-4077-a262-b55eb8075e36",
   "metadata": {},
   "outputs": [
    {
     "data": {
      "text/html": [
       "<div>\n",
       "<style scoped>\n",
       "    .dataframe tbody tr th:only-of-type {\n",
       "        vertical-align: middle;\n",
       "    }\n",
       "\n",
       "    .dataframe tbody tr th {\n",
       "        vertical-align: top;\n",
       "    }\n",
       "\n",
       "    .dataframe thead th {\n",
       "        text-align: right;\n",
       "    }\n",
       "</style>\n",
       "<table border=\"1\" class=\"dataframe\">\n",
       "  <thead>\n",
       "    <tr style=\"text-align: right;\">\n",
       "      <th></th>\n",
       "      <th>market_date</th>\n",
       "      <th>close_price</th>\n",
       "      <th>high_price</th>\n",
       "      <th>low_price</th>\n",
       "      <th>open_price</th>\n",
       "      <th>volume</th>\n",
       "    </tr>\n",
       "  </thead>\n",
       "  <tbody>\n",
       "    <tr>\n",
       "      <th>0</th>\n",
       "      <td>2021-01-04</td>\n",
       "      <td>126.405212</td>\n",
       "      <td>130.507689</td>\n",
       "      <td>123.816742</td>\n",
       "      <td>130.419782</td>\n",
       "      <td>143301900</td>\n",
       "    </tr>\n",
       "    <tr>\n",
       "      <th>1</th>\n",
       "      <td>2021-01-05</td>\n",
       "      <td>127.968079</td>\n",
       "      <td>128.681140</td>\n",
       "      <td>125.447982</td>\n",
       "      <td>125.897308</td>\n",
       "      <td>97664900</td>\n",
       "    </tr>\n",
       "    <tr>\n",
       "      <th>2</th>\n",
       "      <td>2021-01-06</td>\n",
       "      <td>123.660492</td>\n",
       "      <td>128.007173</td>\n",
       "      <td>123.445599</td>\n",
       "      <td>124.754490</td>\n",
       "      <td>155088000</td>\n",
       "    </tr>\n",
       "    <tr>\n",
       "      <th>3</th>\n",
       "      <td>2021-01-07</td>\n",
       "      <td>127.880165</td>\n",
       "      <td>128.573686</td>\n",
       "      <td>124.891218</td>\n",
       "      <td>125.379608</td>\n",
       "      <td>109578200</td>\n",
       "    </tr>\n",
       "    <tr>\n",
       "      <th>4</th>\n",
       "      <td>2021-01-08</td>\n",
       "      <td>128.983917</td>\n",
       "      <td>129.550452</td>\n",
       "      <td>127.206169</td>\n",
       "      <td>129.355084</td>\n",
       "      <td>105158200</td>\n",
       "    </tr>\n",
       "  </tbody>\n",
       "</table>\n",
       "</div>"
      ],
      "text/plain": [
       "  market_date  close_price  high_price   low_price  open_price     volume\n",
       "0  2021-01-04   126.405212  130.507689  123.816742  130.419782  143301900\n",
       "1  2021-01-05   127.968079  128.681140  125.447982  125.897308   97664900\n",
       "2  2021-01-06   123.660492  128.007173  123.445599  124.754490  155088000\n",
       "3  2021-01-07   127.880165  128.573686  124.891218  125.379608  109578200\n",
       "4  2021-01-08   128.983917  129.550452  127.206169  129.355084  105158200"
      ]
     },
     "execution_count": 101,
     "metadata": {},
     "output_type": "execute_result"
    }
   ],
   "source": [
    "df.head()"
   ]
  },
  {
   "cell_type": "code",
   "execution_count": 102,
   "id": "7819ca90-2c73-4bf9-bb5e-d55011cf5b0d",
   "metadata": {},
   "outputs": [
    {
     "name": "stdout",
     "output_type": "stream",
     "text": [
      "2025-03-18 12:47:23,428 INFO sqlalchemy.engine.Engine SELECT DATABASE()\n",
      "2025-03-18 12:47:23,478 INFO sqlalchemy.engine.Engine [raw sql] {}\n",
      "2025-03-18 12:47:23,525 INFO sqlalchemy.engine.Engine SELECT @@sql_mode\n",
      "2025-03-18 12:47:23,525 INFO sqlalchemy.engine.Engine [raw sql] {}\n",
      "2025-03-18 12:47:23,540 INFO sqlalchemy.engine.Engine SELECT @@lower_case_table_names\n",
      "2025-03-18 12:47:23,540 INFO sqlalchemy.engine.Engine [raw sql] {}\n",
      "2025-03-18 12:47:23,556 INFO sqlalchemy.engine.Engine BEGIN (implicit)\n",
      "2025-03-18 12:47:23,618 INFO sqlalchemy.engine.Engine DESCRIBE `stock_market`.`stock_prices`\n",
      "2025-03-18 12:47:23,618 INFO sqlalchemy.engine.Engine [raw sql] {}\n",
      "2025-03-18 12:47:23,962 INFO sqlalchemy.engine.Engine DESCRIBE `stock_market`.`stock_prices`\n",
      "2025-03-18 12:47:23,962 INFO sqlalchemy.engine.Engine [raw sql] {}\n",
      "2025-03-18 12:47:23,962 INFO sqlalchemy.engine.Engine SHOW FULL TABLES FROM `stock_market`\n",
      "2025-03-18 12:47:23,962 INFO sqlalchemy.engine.Engine [raw sql] {}\n",
      "2025-03-18 12:47:24,009 INFO sqlalchemy.engine.Engine SHOW FULL TABLES FROM `stock_market`\n",
      "2025-03-18 12:47:24,009 INFO sqlalchemy.engine.Engine [raw sql] {}\n",
      "2025-03-18 12:47:24,056 INFO sqlalchemy.engine.Engine SHOW CREATE TABLE `stock_prices`\n",
      "2025-03-18 12:47:24,056 INFO sqlalchemy.engine.Engine [raw sql] {}\n",
      "2025-03-18 12:47:24,116 INFO sqlalchemy.engine.Engine \n",
      "DROP TABLE stock_prices\n",
      "2025-03-18 12:47:24,121 INFO sqlalchemy.engine.Engine [no key 0.00562s] {}\n",
      "2025-03-18 12:47:25,720 INFO sqlalchemy.engine.Engine \n",
      "CREATE TABLE stock_prices (\n",
      "\t`index` BIGINT, \n",
      "\tmarket_date DATETIME, \n",
      "\tclose_price FLOAT(53), \n",
      "\thigh_price FLOAT(53), \n",
      "\tlow_price FLOAT(53), \n",
      "\topen_price FLOAT(53), \n",
      "\tvolume BIGINT\n",
      ")\n",
      "\n",
      "\n",
      "2025-03-18 12:47:25,766 INFO sqlalchemy.engine.Engine [no key 0.05563s] {}\n",
      "2025-03-18 12:47:26,740 INFO sqlalchemy.engine.Engine CREATE INDEX ix_stock_prices_index ON stock_prices (`index`)\n",
      "2025-03-18 12:47:26,742 INFO sqlalchemy.engine.Engine [no key 0.00293s] {}\n",
      "2025-03-18 12:47:28,384 INFO sqlalchemy.engine.Engine INSERT INTO stock_prices (`index`, market_date, close_price, high_price, low_price, open_price, volume) VALUES (%(index)s, %(market_date)s, %(close_price)s, %(high_price)s, %(low_price)s, %(open_price)s, %(volume)s)\n",
      "2025-03-18 12:47:28,384 INFO sqlalchemy.engine.Engine [generated in 0.31373s] [{'index': 0, 'market_date': datetime.datetime(2021, 1, 4, 0, 0), 'close_price': 126.40521240234375, 'high_price': 130.50768895985888, 'low_price': 123.81674167932394, 'open_price': 130.419782261114, 'volume': 143301900}, {'index': 1, 'market_date': datetime.datetime(2021, 1, 5, 0, 0), 'close_price': 127.96807861328125, 'high_price': 128.68113950331986, 'low_price': 125.4479817429498, 'open_price': 125.89730757907694, 'volume': 97664900}, {'index': 2, 'market_date': datetime.datetime(2021, 1, 6, 0, 0), 'close_price': 123.66049194335938, 'high_price': 128.0071725267185, 'low_price': 123.445598898271, 'open_price': 124.75448951278715, 'volume': 155088000}, {'index': 3, 'market_date': datetime.datetime(2021, 1, 7, 0, 0), 'close_price': 127.88016510009766, 'high_price': 128.57368615922834, 'low_price': 124.89121766294679, 'open_price': 125.37960815671642, 'volume': 109578200}, {'index': 4, 'market_date': datetime.datetime(2021, 1, 8, 0, 0), 'close_price': 128.98391723632812, 'high_price': 129.55045193110092, 'low_price': 127.20616889364516, 'open_price': 129.35508383294297, 'volume': 105158200}, {'index': 5, 'market_date': datetime.datetime(2021, 1, 11, 0, 0), 'close_price': 125.98519134521484, 'high_price': 127.14756295513907, 'low_price': 125.51634070494472, 'open_price': 126.1903218841104, 'volume': 100384500}, {'index': 6, 'market_date': datetime.datetime(2021, 1, 12, 0, 0), 'close_price': 125.80941009521484, 'high_price': 126.678744687946, 'low_price': 123.91445235489151, 'open_price': 125.51637278097465, 'volume': 91951100}, {'index': 7, 'market_date': datetime.datetime(2021, 1, 13, 0, 0), 'close_price': 127.85088348388672, 'high_price': 128.39787854041427, 'low_price': 125.5066146974837, 'open_price': 125.77033487541826, 'volume': 88636800}  ... displaying 10 of 1005 total bound parameter sets ...  {'index': 1003, 'market_date': datetime.datetime(2024, 12, 30, 0, 0), 'close_price': 251.9230194091797, 'high_price': 253.22159473829512, 'low_price': 250.47461491371794, 'open_price': 251.95298524244893, 'volume': 35557500}, {'index': 1004, 'market_date': datetime.datetime(2024, 12, 31, 0, 0), 'close_price': 250.1449737548828, 'high_price': 253.00183336212825, 'low_price': 249.15605553782555, 'open_price': 252.16275955239965, 'volume': 39480700}]\n",
      "2025-03-18 12:47:29,043 INFO sqlalchemy.engine.Engine COMMIT\n"
     ]
    },
    {
     "data": {
      "text/plain": [
       "1005"
      ]
     },
     "execution_count": 102,
     "metadata": {},
     "output_type": "execute_result"
    }
   ],
   "source": [
    "# Save DataFrame to MySQL table\n",
    "df.to_sql(\"stock_prices\", engine, if_exists=\"replace\", index=True)"
   ]
  },
  {
   "cell_type": "code",
   "execution_count": 103,
   "id": "7d249471-8a53-4818-8489-177ebf5a76d7",
   "metadata": {},
   "outputs": [],
   "source": [
    "query = \"\"\"\n",
    "SELECT market_date, close_price,\n",
    "       AVG(close_price) OVER (ORDER BY market_date ROWS BETWEEN 6 PRECEDING AND CURRENT ROW) AS moving_avg\n",
    "FROM stock_prices\n",
    "\"\"\""
   ]
  },
  {
   "cell_type": "code",
   "execution_count": 104,
   "id": "1e7248c9-11fb-4150-b727-d3cc8d0b771c",
   "metadata": {},
   "outputs": [
    {
     "name": "stdout",
     "output_type": "stream",
     "text": [
      "2025-03-18 12:47:29,416 INFO sqlalchemy.engine.Engine BEGIN (implicit)\n",
      "2025-03-18 12:47:29,418 INFO sqlalchemy.engine.Engine DESCRIBE `stock_market`.`\n",
      "SELECT market_date, close_price,\n",
      "       AVG(close_price) OVER (ORDER BY market_date ROWS BETWEEN 6 PRECEDING AND CURRENT ROW) AS moving_avg\n",
      "FROM stock_prices\n",
      "`\n",
      "2025-03-18 12:47:29,418 INFO sqlalchemy.engine.Engine [raw sql] {}\n",
      "2025-03-18 12:47:29,422 INFO sqlalchemy.engine.Engine \n",
      "SELECT market_date, close_price,\n",
      "       AVG(close_price) OVER (ORDER BY market_date ROWS BETWEEN 6 PRECEDING AND CURRENT ROW) AS moving_avg\n",
      "FROM stock_prices\n",
      "\n",
      "2025-03-18 12:47:29,423 INFO sqlalchemy.engine.Engine [raw sql] {}\n",
      "2025-03-18 12:47:29,664 INFO sqlalchemy.engine.Engine ROLLBACK\n"
     ]
    }
   ],
   "source": [
    "df = pd.read_sql(query, engine)"
   ]
  },
  {
   "cell_type": "code",
   "execution_count": 105,
   "id": "0a87f9bd-fddf-4974-a8cb-dc16fb4e1006",
   "metadata": {},
   "outputs": [],
   "source": [
    "# Convert 'date' to datetime\n",
    "df['market_date'] = pd.to_datetime(df['market_date'])"
   ]
  },
  {
   "cell_type": "code",
   "execution_count": 106,
   "id": "8328a127-2ef3-473e-8bf2-2a6fb59c8f23",
   "metadata": {},
   "outputs": [],
   "source": [
    "import matplotlib.pyplot as plt\n",
    "import seaborn as sns"
   ]
  },
  {
   "cell_type": "code",
   "execution_count": 107,
   "id": "41072a2c-2b6d-42fc-ad51-aba87a7533d0",
   "metadata": {},
   "outputs": [
    {
     "data": {
      "image/png": "[encoded data removed]",
      "text/plain": [
       "<Figure size 1200x600 with 1 Axes>"
      ]
     },
     "metadata": {},
     "output_type": "display_data"
    }
   ],
   "source": [
    "# Plot stock price trend with moving average\n",
    "plt.figure(figsize=(12, 6))\n",
    "sns.lineplot(x=df['market_date'], y=df['close_price'], label=\"Close Price\", color=\"blue\")\n",
    "sns.lineplot(x=df['market_date'], y=df['moving_avg'], label=\"7-Day Moving Avg\", linestyle=\"dashed\", color=\"red\")\n",
    "plt.title(\"Stock Price Trend with Moving Average\")\n",
    "plt.xlabel(\"Date\")\n",
    "plt.ylabel(\"Price\")\n",
    "plt.legend()\n",
    "plt.show()"
   ]
  },
  {
   "cell_type": "code",
   "execution_count": 108,
   "id": "1139dae2-e540-46ef-bb02-9c197ebb90e4",
   "metadata": {},
   "outputs": [],
   "source": [
    "import plotly.express as px"
   ]
  },
  {
   "cell_type": "code",
   "execution_count": 109,
   "id": "e84036df-91e6-458d-9422-35ca261073d6",
   "metadata": {},
   "outputs": [
    {
     "data": {
      "application/vnd.plotly.v1+json": {
       "config": {
        "plotlyServerURL": "https://plot.ly"
       },
       "data": [
        {
         "hovertemplate": "Date=%{x}<br>Close Price ($)=%{y}<extra></extra>",
         "legendgroup": "",
         "line": {
          "color": "#636efa",
          "dash": "solid"
         },
         "marker": {
          "symbol": "circle"
         },
         "mode": "lines",
         "name": "",
         "showlegend": false,
         "type": "scattergl",
         "x": [
          "2021-01-04T00:00:00",
          "2021-01-05T00:00:00",
          "2021-01-06T00:00:00",
          "2021-01-07T00:00:00",
          "2021-01-08T00:00:00",
          "2021-01-11T00:00:00",
          "2021-01-12T00:00:00",
          "2021-01-13T00:00:00",
          "2021-01-14T00:00:00",
          "2021-01-15T00:00:00",
          "2021-01-19T00:00:00",
          "2021-01-20T00:00:00",
          "2021-01-21T00:00:00",
          "2021-01-22T00:00:00",
          "2021-01-25T00:00:00",
          "2021-01-26T00:00:00",
          "2021-01-27T00:00:00",
          "2021-01-28T00:00:00",
          "2021-01-29T00:00:00",
          "2021-02-01T00:00:00",
          "2021-02-02T00:00:00",
          "2021-02-03T00:00:00",
          "2021-02-04T00:00:00",
          "2021-02-05T00:00:00",
          "2021-02-08T00:00:00",
          "2021-02-09T00:00:00",
          "2021-02-10T00:00:00",
          "2021-02-11T00:00:00",
          "2021-02-12T00:00:00",
          "2021-02-16T00:00:00",
          "2021-02-17T00:00:00",
          "2021-02-18T00:00:00",
          "2021-02-19T00:00:00",
          "2021-02-22T00:00:00",
          "2021-02-23T00:00:00",
          "2021-02-24T00:00:00",
          "2021-02-25T00:00:00",
          "2021-02-26T00:00:00",
          "2021-03-01T00:00:00",
          "2021-03-02T00:00:00",
          "2021-03-03T00:00:00",
          "2021-03-04T00:00:00",
          "2021-03-05T00:00:00",
          "2021-03-08T00:00:00",
          "2021-03-09T00:00:00",
          "2021-03-10T00:00:00",
          "2021-03-11T00:00:00",
          "2021-03-12T00:00:00",
          "2021-03-15T00:00:00",
          "2021-03-16T00:00:00",
          "2021-03-17T00:00:00",
          "2021-03-18T00:00:00",
          "2021-03-19T00:00:00",
          "2021-03-22T00:00:00",
          "2021-03-23T00:00:00",
          "2021-03-24T00:00:00",
          "2021-03-25T00:00:00",
          "2021-03-26T00:00:00",
          "2021-03-29T00:00:00",
          "2021-03-30T00:00:00",
          "2021-03-31T00:00:00",
          "2021-04-01T00:00:00",
          "2021-04-05T00:00:00",
          "2021-04-06T00:00:00",
          "2021-04-07T00:00:00",
          "2021-04-08T00:00:00",
          "2021-04-09T00:00:00",
          "2021-04-12T00:00:00",
          "2021-04-13T00:00:00",
          "2021-04-14T00:00:00",
          "2021-04-15T00:00:00",
          "2021-04-16T00:00:00",
          "2021-04-19T00:00:00",
          "2021-04-20T00:00:00",
          "2021-04-21T00:00:00",
          "2021-04-22T00:00:00",
          "2021-04-23T00:00:00",
          "2021-04-26T00:00:00",
          "2021-04-27T00:00:00",
          "2021-04-28T00:00:00",
          "2021-04-29T00:00:00",
          "2021-04-30T00:00:00",
          "2021-05-03T00:00:00",
          "2021-05-04T00:00:00",
          "2021-05-05T00:00:00",
          "2021-05-06T00:00:00",
          "2021-05-07T00:00:00",
          "2021-05-10T00:00:00",
          "2021-05-11T00:00:00",
          "2021-05-12T00:00:00",
          "2021-05-13T00:00:00",
          "2021-05-14T00:00:00",
          "2021-05-17T00:00:00",
          "2021-05-18T00:00:00",
          "2021-05-19T00:00:00",
          "2021-05-20T00:00:00",
          "2021-05-21T00:00:00",
          "2021-05-24T00:00:00",
          "2021-05-25T00:00:00",
          "2021-05-26T00:00:00",
          "2021-05-27T00:00:00",
          "2021-05-28T00:00:00",
          "2021-06-01T00:00:00",
          "2021-06-02T00:00:00",
          "2021-06-03T00:00:00",
          "2021-06-04T00:00:00",
          "2021-06-07T00:00:00",
          "2021-06-08T00:00:00",
          "2021-06-09T00:00:00",
          "2021-06-10T00:00:00",
          "2021-06-11T00:00:00",
          "2021-06-14T00:00:00",
          "2021-06-15T00:00:00",
          "2021-06-16T00:00:00",
          "2021-06-17T00:00:00",
          "2021-06-18T00:00:00",
          "2021-06-21T00:00:00",
          "2021-06-22T00:00:00",
          "2021-06-23T00:00:00",
          "2021-06-24T00:00:00",
          "2021-06-25T00:00:00",
          "2021-06-28T00:00:00",
          "2021-06-29T00:00:00",
          "2021-06-30T00:00:00",
          "2021-07-01T00:00:00",
          "2021-07-02T00:00:00",
          "2021-07-06T00:00:00",
          "2021-07-07T00:00:00",
          "2021-07-08T00:00:00",
          "2021-07-09T00:00:00",
          "2021-07-12T00:00:00",
          "2021-07-13T00:00:00",
          "2021-07-14T00:00:00",
          "2021-07-15T00:00:00",
          "2021-07-16T00:00:00",
          "2021-07-19T00:00:00",
          "2021-07-20T00:00:00",
          "2021-07-21T00:00:00",
          "2021-07-22T00:00:00",
          "2021-07-23T00:00:00",
          "2021-07-26T00:00:00",
          "2021-07-27T00:00:00",
          "2021-07-28T00:00:00",
          "2021-07-29T00:00:00",
          "2021-07-30T00:00:00",
          "2021-08-02T00:00:00",
          "2021-08-03T00:00:00",
          "2021-08-04T00:00:00",
          "2021-08-05T00:00:00",
          "2021-08-06T00:00:00",
          "2021-08-09T00:00:00",
          "2021-08-10T00:00:00",
          "2021-08-11T00:00:00",
          "2021-08-12T00:00:00",
          "2021-08-13T00:00:00",
          "2021-08-16T00:00:00",
          "2021-08-17T00:00:00",
          "2021-08-18T00:00:00",
          "2021-08-19T00:00:00",
          "2021-08-20T00:00:00",
          "2021-08-23T00:00:00",
          "2021-08-24T00:00:00",
          "2021-08-25T00:00:00",
          "2021-08-26T00:00:00",
          "2021-08-27T00:00:00",
          "2021-08-30T00:00:00",
          "2021-08-31T00:00:00",
          "2021-09-01T00:00:00",
          "2021-09-02T00:00:00",
          "2021-09-03T00:00:00",
          "2021-09-07T00:00:00",
          "2021-09-08T00:00:00",
          "2021-09-09T00:00:00",
          "2021-09-10T00:00:00",
          "2021-09-13T00:00:00",
          "2021-09-14T00:00:00",
          "2021-09-15T00:00:00",
          "2021-09-16T00:00:00",
          "2021-09-17T00:00:00",
          "2021-09-20T00:00:00",
          "2021-09-21T00:00:00",
          "2021-09-22T00:00:00",
          "2021-09-23T00:00:00",
          "2021-09-24T00:00:00",
          "2021-09-27T00:00:00",
          "2021-09-28T00:00:00",
          "2021-09-29T00:00:00",
          "2021-09-30T00:00:00",
          "2021-10-01T00:00:00",
          "2021-10-04T00:00:00",
          "2021-10-05T00:00:00",
          "2021-10-06T00:00:00",
          "2021-10-07T00:00:00",
          "2021-10-08T00:00:00",
          "2021-10-11T00:00:00",
          "2021-10-12T00:00:00",
          "2021-10-13T00:00:00",
          "2021-10-14T00:00:00",
          "2021-10-15T00:00:00",
          "2021-10-18T00:00:00",
          "2021-10-19T00:00:00",
          "2021-10-20T00:00:00",
          "2021-10-21T00:00:00",
          "2021-10-22T00:00:00",
          "2021-10-25T00:00:00",
          "2021-10-26T00:00:00",
          "2021-10-27T00:00:00",
          "2021-10-28T00:00:00",
          "2021-10-29T00:00:00",
          "2021-11-01T00:00:00",
          "2021-11-02T00:00:00",
          "2021-11-03T00:00:00",
          "2021-11-04T00:00:00",
          "2021-11-05T00:00:00",
          "2021-11-08T00:00:00",
          "2021-11-09T00:00:00",
          "2021-11-10T00:00:00",
          "2021-11-11T00:00:00",
          "2021-11-12T00:00:00",
          "2021-11-15T00:00:00",
          "2021-11-16T00:00:00",
          "2021-11-17T00:00:00",
          "2021-11-18T00:00:00",
          "2021-11-19T00:00:00",
          "2021-11-22T00:00:00",
          "2021-11-23T00:00:00",
          "2021-11-24T00:00:00",
          "2021-11-26T00:00:00",
          "2021-11-29T00:00:00",
          "2021-11-30T00:00:00",
          "2021-12-01T00:00:00",
          "2021-12-02T00:00:00",
          "2021-12-03T00:00:00",
          "2021-12-06T00:00:00",
          "2021-12-07T00:00:00",
          "2021-12-08T00:00:00",
          "2021-12-09T00:00:00",
          "2021-12-10T00:00:00",
          "2021-12-13T00:00:00",
          "2021-12-14T00:00:00",
          "2021-12-15T00:00:00",
          "2021-12-16T00:00:00",
          "2021-12-17T00:00:00",
          "2021-12-20T00:00:00",
          "2021-12-21T00:00:00",
          "2021-12-22T00:00:00",
          "2021-12-23T00:00:00",
          "2021-12-27T00:00:00",
          "2021-12-28T00:00:00",
          "2021-12-29T00:00:00",
          "2021-12-30T00:00:00",
          "2021-12-31T00:00:00",
          "2022-01-03T00:00:00",
          "2022-01-04T00:00:00",
          "2022-01-05T00:00:00",
          "2022-01-06T00:00:00",
          "2022-01-07T00:00:00",
          "2022-01-10T00:00:00",
          "2022-01-11T00:00:00",
          "2022-01-12T00:00:00",
          "2022-01-13T00:00:00",
          "2022-01-14T00:00:00",
          "2022-01-18T00:00:00",
          "2022-01-19T00:00:00",
          "2022-01-20T00:00:00",
          "2022-01-21T00:00:00",
          "2022-01-24T00:00:00",
          "2022-01-25T00:00:00",
          "2022-01-26T00:00:00",
          "2022-01-27T00:00:00",
          "2022-01-28T00:00:00",
          "2022-01-31T00:00:00",
          "2022-02-01T00:00:00",
          "2022-02-02T00:00:00",
          "2022-02-03T00:00:00",
          "2022-02-04T00:00:00",
          "2022-02-07T00:00:00",
          "2022-02-08T00:00:00",
          "2022-02-09T00:00:00",
          "2022-02-10T00:00:00",
          "2022-02-11T00:00:00",
          "2022-02-14T00:00:00",
          "2022-02-15T00:00:00",
          "2022-02-16T00:00:00",
          "2022-02-17T00:00:00",
          "2022-02-18T00:00:00",
          "2022-02-22T00:00:00",
          "2022-02-23T00:00:00",
          "2022-02-24T00:00:00",
          "2022-02-25T00:00:00",
          "2022-02-28T00:00:00",
          "2022-03-01T00:00:00",
          "2022-03-02T00:00:00",
          "2022-03-03T00:00:00",
          "2022-03-04T00:00:00",
          "2022-03-07T00:00:00",
          "2022-03-08T00:00:00",
          "2022-03-09T00:00:00",
          "2022-03-10T00:00:00",
          "2022-03-11T00:00:00",
          "2022-03-14T00:00:00",
          "2022-03-15T00:00:00",
          "2022-03-16T00:00:00",
          "2022-03-17T00:00:00",
          "2022-03-18T00:00:00",
          "2022-03-21T00:00:00",
          "2022-03-22T00:00:00",
          "2022-03-23T00:00:00",
          "2022-03-24T00:00:00",
          "2022-03-25T00:00:00",
          "2022-03-28T00:00:00",
          "2022-03-29T00:00:00",
          "2022-03-30T00:00:00",
          "2022-03-31T00:00:00",
          "2022-04-01T00:00:00",
          "2022-04-04T00:00:00",
          "2022-04-05T00:00:00",
          "2022-04-06T00:00:00",
          "2022-04-07T00:00:00",
          "2022-04-08T00:00:00",
          "2022-04-11T00:00:00",
          "2022-04-12T00:00:00",
          "2022-04-13T00:00:00",
          "2022-04-14T00:00:00",
          "2022-04-18T00:00:00",
          "2022-04-19T00:00:00",
          "2022-04-20T00:00:00",
          "2022-04-21T00:00:00",
          "2022-04-22T00:00:00",
          "2022-04-25T00:00:00",
          "2022-04-26T00:00:00",
          "2022-04-27T00:00:00",
          "2022-04-28T00:00:00",
          "2022-04-29T00:00:00",
          "2022-05-02T00:00:00",
          "2022-05-03T00:00:00",
          "2022-05-04T00:00:00",
          "2022-05-05T00:00:00",
          "2022-05-06T00:00:00",
          "2022-05-09T00:00:00",
          "2022-05-10T00:00:00",
          "2022-05-11T00:00:00",
          "2022-05-12T00:00:00",
          "2022-05-13T00:00:00",
          "2022-05-16T00:00:00",
          "2022-05-17T00:00:00",
          "2022-05-18T00:00:00",
          "2022-05-19T00:00:00",
          "2022-05-20T00:00:00",
          "2022-05-23T00:00:00",
          "2022-05-24T00:00:00",
          "2022-05-25T00:00:00",
          "2022-05-26T00:00:00",
          "2022-05-27T00:00:00",
          "2022-05-31T00:00:00",
          "2022-06-01T00:00:00",
          "2022-06-02T00:00:00",
          "2022-06-03T00:00:00",
          "2022-06-06T00:00:00",
          "2022-06-07T00:00:00",
          "2022-06-08T00:00:00",
          "2022-06-09T00:00:00",
          "2022-06-10T00:00:00",
          "2022-06-13T00:00:00",
          "2022-06-14T00:00:00",
          "2022-06-15T00:00:00",
          "2022-06-16T00:00:00",
          "2022-06-17T00:00:00",
          "2022-06-21T00:00:00",
          "2022-06-22T00:00:00",
          "2022-06-23T00:00:00",
          "2022-06-24T00:00:00",
          "2022-06-27T00:00:00",
          "2022-06-28T00:00:00",
          "2022-06-29T00:00:00",
          "2022-06-30T00:00:00",
          "2022-07-01T00:00:00",
          "2022-07-05T00:00:00",
          "2022-07-06T00:00:00",
          "2022-07-07T00:00:00",
          "2022-07-08T00:00:00",
          "2022-07-11T00:00:00",
          "2022-07-12T00:00:00",
          "2022-07-13T00:00:00",
          "2022-07-14T00:00:00",
          "2022-07-15T00:00:00",
          "2022-07-18T00:00:00",
          "2022-07-19T00:00:00",
          "2022-07-20T00:00:00",
          "2022-07-21T00:00:00",
          "2022-07-22T00:00:00",
          "2022-07-25T00:00:00",
          "2022-07-26T00:00:00",
          "2022-07-27T00:00:00",
          "2022-07-28T00:00:00",
          "2022-07-29T00:00:00",
          "2022-08-01T00:00:00",
          "2022-08-02T00:00:00",
          "2022-08-03T00:00:00",
          "2022-08-04T00:00:00",
          "2022-08-05T00:00:00",
          "2022-08-08T00:00:00",
          "2022-08-09T00:00:00",
          "2022-08-10T00:00:00",
          "2022-08-11T00:00:00",
          "2022-08-12T00:00:00",
          "2022-08-15T00:00:00",
          "2022-08-16T00:00:00",
          "2022-08-17T00:00:00",
          "2022-08-18T00:00:00",
          "2022-08-19T00:00:00",
          "2022-08-22T00:00:00",
          "2022-08-23T00:00:00",
          "2022-08-24T00:00:00",
          "2022-08-25T00:00:00",
          "2022-08-26T00:00:00",
          "2022-08-29T00:00:00",
          "2022-08-30T00:00:00",
          "2022-08-31T00:00:00",
          "2022-09-01T00:00:00",
          "2022-09-02T00:00:00",
          "2022-09-06T00:00:00",
          "2022-09-07T00:00:00",
          "2022-09-08T00:00:00",
          "2022-09-09T00:00:00",
          "2022-09-12T00:00:00",
          "2022-09-13T00:00:00",
          "2022-09-14T00:00:00",
          "2022-09-15T00:00:00",
          "2022-09-16T00:00:00",
          "2022-09-19T00:00:00",
          "2022-09-20T00:00:00",
          "2022-09-21T00:00:00",
          "2022-09-22T00:00:00",
          "2022-09-23T00:00:00",
          "2022-09-26T00:00:00",
          "2022-09-27T00:00:00",
          "2022-09-28T00:00:00",
          "2022-09-29T00:00:00",
          "2022-09-30T00:00:00",
          "2022-10-03T00:00:00",
          "2022-10-04T00:00:00",
          "2022-10-05T00:00:00",
          "2022-10-06T00:00:00",
          "2022-10-07T00:00:00",
          "2022-10-10T00:00:00",
          "2022-10-11T00:00:00",
          "2022-10-12T00:00:00",
          "2022-10-13T00:00:00",
          "2022-10-14T00:00:00",
          "2022-10-17T00:00:00",
          "2022-10-18T00:00:00",
          "2022-10-19T00:00:00",
          "2022-10-20T00:00:00",
          "2022-10-21T00:00:00",
          "2022-10-24T00:00:00",
          "2022-10-25T00:00:00",
          "2022-10-26T00:00:00",
          "2022-10-27T00:00:00",
          "2022-10-28T00:00:00",
          "2022-10-31T00:00:00",
          "2022-11-01T00:00:00",
          "2022-11-02T00:00:00",
          "2022-11-03T00:00:00",
          "2022-11-04T00:00:00",
          "2022-11-07T00:00:00",
          "2022-11-08T00:00:00",
          "2022-11-09T00:00:00",
          "2022-11-10T00:00:00",
          "2022-11-11T00:00:00",
          "2022-11-14T00:00:00",
          "2022-11-15T00:00:00",
          "2022-11-16T00:00:00",
          "2022-11-17T00:00:00",
          "2022-11-18T00:00:00",
          "2022-11-21T00:00:00",
          "2022-11-22T00:00:00",
          "2022-11-23T00:00:00",
          "2022-11-25T00:00:00",
          "2022-11-28T00:00:00",
          "2022-11-29T00:00:00",
          "2022-11-30T00:00:00",
          "2022-12-01T00:00:00",
          "2022-12-02T00:00:00",
          "2022-12-05T00:00:00",
          "2022-12-06T00:00:00",
          "2022-12-07T00:00:00",
          "2022-12-08T00:00:00",
          "2022-12-09T00:00:00",
          "2022-12-12T00:00:00",
          "2022-12-13T00:00:00",
          "2022-12-14T00:00:00",
          "2022-12-15T00:00:00",
          "2022-12-16T00:00:00",
          "2022-12-19T00:00:00",
          "2022-12-20T00:00:00",
          "2022-12-21T00:00:00",
          "2022-12-22T00:00:00",
          "2022-12-23T00:00:00",
          "2022-12-27T00:00:00",
          "2022-12-28T00:00:00",
          "2022-12-29T00:00:00",
          "2022-12-30T00:00:00",
          "2023-01-03T00:00:00",
          "2023-01-04T00:00:00",
          "2023-01-05T00:00:00",
          "2023-01-06T00:00:00",
          "2023-01-09T00:00:00",
          "2023-01-10T00:00:00",
          "2023-01-11T00:00:00",
          "2023-01-12T00:00:00",
          "2023-01-13T00:00:00",
          "2023-01-17T00:00:00",
          "2023-01-18T00:00:00",
          "2023-01-19T00:00:00",
          "2023-01-20T00:00:00",
          "2023-01-23T00:00:00",
          "2023-01-24T00:00:00",
          "2023-01-25T00:00:00",
          "2023-01-26T00:00:00",
          "2023-01-27T00:00:00",
          "2023-01-30T00:00:00",
          "2023-01-31T00:00:00",
          "2023-02-01T00:00:00",
          "2023-02-02T00:00:00",
          "2023-02-03T00:00:00",
          "2023-02-06T00:00:00",
          "2023-02-07T00:00:00",
          "2023-02-08T00:00:00",
          "2023-02-09T00:00:00",
          "2023-02-10T00:00:00",
          "2023-02-13T00:00:00",
          "2023-02-14T00:00:00",
          "2023-02-15T00:00:00",
          "2023-02-16T00:00:00",
          "2023-02-17T00:00:00",
          "2023-02-21T00:00:00",
          "2023-02-22T00:00:00",
          "2023-02-23T00:00:00",
          "2023-02-24T00:00:00",
          "2023-02-27T00:00:00",
          "2023-02-28T00:00:00",
          "2023-03-01T00:00:00",
          "2023-03-02T00:00:00",
          "2023-03-03T00:00:00",
          "2023-03-06T00:00:00",
          "2023-03-07T00:00:00",
          "2023-03-08T00:00:00",
          "2023-03-09T00:00:00",
          "2023-03-10T00:00:00",
          "2023-03-13T00:00:00",
          "2023-03-14T00:00:00",
          "2023-03-15T00:00:00",
          "2023-03-16T00:00:00",
          "2023-03-17T00:00:00",
          "2023-03-20T00:00:00",
          "2023-03-21T00:00:00",
          "2023-03-22T00:00:00",
          "2023-03-23T00:00:00",
          "2023-03-24T00:00:00",
          "2023-03-27T00:00:00",
          "2023-03-28T00:00:00",
          "2023-03-29T00:00:00",
          "2023-03-30T00:00:00",
          "2023-03-31T00:00:00",
          "2023-04-03T00:00:00",
          "2023-04-04T00:00:00",
          "2023-04-05T00:00:00",
          "2023-04-06T00:00:00",
          "2023-04-10T00:00:00",
          "2023-04-11T00:00:00",
          "2023-04-12T00:00:00",
          "2023-04-13T00:00:00",
          "2023-04-14T00:00:00",
          "2023-04-17T00:00:00",
          "2023-04-18T00:00:00",
          "2023-04-19T00:00:00",
          "2023-04-20T00:00:00",
          "2023-04-21T00:00:00",
          "2023-04-24T00:00:00",
          "2023-04-25T00:00:00",
          "2023-04-26T00:00:00",
          "2023-04-27T00:00:00",
          "2023-04-28T00:00:00",
          "2023-05-01T00:00:00",
          "2023-05-02T00:00:00",
          "2023-05-03T00:00:00",
          "2023-05-04T00:00:00",
          "2023-05-05T00:00:00",
          "2023-05-08T00:00:00",
          "2023-05-09T00:00:00",
          "2023-05-10T00:00:00",
          "2023-05-11T00:00:00",
          "2023-05-12T00:00:00",
          "2023-05-15T00:00:00",
          "2023-05-16T00:00:00",
          "2023-05-17T00:00:00",
          "2023-05-18T00:00:00",
          "2023-05-19T00:00:00",
          "2023-05-22T00:00:00",
          "2023-05-23T00:00:00",
          "2023-05-24T00:00:00",
          "2023-05-25T00:00:00",
          "2023-05-26T00:00:00",
          "2023-05-30T00:00:00",
          "2023-05-31T00:00:00",
          "2023-06-01T00:00:00",
          "2023-06-02T00:00:00",
          "2023-06-05T00:00:00",
          "2023-06-06T00:00:00",
          "2023-06-07T00:00:00",
          "2023-06-08T00:00:00",
          "2023-06-09T00:00:00",
          "2023-06-12T00:00:00",
          "2023-06-13T00:00:00",
          "2023-06-14T00:00:00",
          "2023-06-15T00:00:00",
          "2023-06-16T00:00:00",
          "2023-06-20T00:00:00",
          "2023-06-21T00:00:00",
          "2023-06-22T00:00:00",
          "2023-06-23T00:00:00",
          "2023-06-26T00:00:00",
          "2023-06-27T00:00:00",
          "2023-06-28T00:00:00",
          "2023-06-29T00:00:00",
          "2023-06-30T00:00:00",
          "2023-07-03T00:00:00",
          "2023-07-05T00:00:00",
          "2023-07-06T00:00:00",
          "2023-07-07T00:00:00",
          "2023-07-10T00:00:00",
          "2023-07-11T00:00:00",
          "2023-07-12T00:00:00",
          "2023-07-13T00:00:00",
          "2023-07-14T00:00:00",
          "2023-07-17T00:00:00",
          "2023-07-18T00:00:00",
          "2023-07-19T00:00:00",
          "2023-07-20T00:00:00",
          "2023-07-21T00:00:00",
          "2023-07-24T00:00:00",
          "2023-07-25T00:00:00",
          "2023-07-26T00:00:00",
          "2023-07-27T00:00:00",
          "2023-07-28T00:00:00",
          "2023-07-31T00:00:00",
          "2023-08-01T00:00:00",
          "2023-08-02T00:00:00",
          "2023-08-03T00:00:00",
          "2023-08-04T00:00:00",
          "2023-08-07T00:00:00",
          "2023-08-08T00:00:00",
          "2023-08-09T00:00:00",
          "2023-08-10T00:00:00",
          "2023-08-11T00:00:00",
          "2023-08-14T00:00:00",
          "2023-08-15T00:00:00",
          "2023-08-16T00:00:00",
          "2023-08-17T00:00:00",
          "2023-08-18T00:00:00",
          "2023-08-21T00:00:00",
          "2023-08-22T00:00:00",
          "2023-08-23T00:00:00",
          "2023-08-24T00:00:00",
          "2023-08-25T00:00:00",
          "2023-08-28T00:00:00",
          "2023-08-29T00:00:00",
          "2023-08-30T00:00:00",
          "2023-08-31T00:00:00",
          "2023-09-01T00:00:00",
          "2023-09-05T00:00:00",
          "2023-09-06T00:00:00",
          "2023-09-07T00:00:00",
          "2023-09-08T00:00:00",
          "2023-09-11T00:00:00",
          "2023-09-12T00:00:00",
          "2023-09-13T00:00:00",
          "2023-09-14T00:00:00",
          "2023-09-15T00:00:00",
          "2023-09-18T00:00:00",
          "2023-09-19T00:00:00",
          "2023-09-20T00:00:00",
          "2023-09-21T00:00:00",
          "2023-09-22T00:00:00",
          "2023-09-25T00:00:00",
          "2023-09-26T00:00:00",
          "2023-09-27T00:00:00",
          "2023-09-28T00:00:00",
          "2023-09-29T00:00:00",
          "2023-10-02T00:00:00",
          "2023-10-03T00:00:00",
          "2023-10-04T00:00:00",
          "2023-10-05T00:00:00",
          "2023-10-06T00:00:00",
          "2023-10-09T00:00:00",
          "2023-10-10T00:00:00",
          "2023-10-11T00:00:00",
          "2023-10-12T00:00:00",
          "2023-10-13T00:00:00",
          "2023-10-16T00:00:00",
          "2023-10-17T00:00:00",
          "2023-10-18T00:00:00",
          "2023-10-19T00:00:00",
          "2023-10-20T00:00:00",
          "2023-10-23T00:00:00",
          "2023-10-24T00:00:00",
          "2023-10-25T00:00:00",
          "2023-10-26T00:00:00",
          "2023-10-27T00:00:00",
          "2023-10-30T00:00:00",
          "2023-10-31T00:00:00",
          "2023-11-01T00:00:00",
          "2023-11-02T00:00:00",
          "2023-11-03T00:00:00",
          "2023-11-06T00:00:00",
          "2023-11-07T00:00:00",
          "2023-11-08T00:00:00",
          "2023-11-09T00:00:00",
          "2023-11-10T00:00:00",
          "2023-11-13T00:00:00",
          "2023-11-14T00:00:00",
          "2023-11-15T00:00:00",
          "2023-11-16T00:00:00",
          "2023-11-17T00:00:00",
          "2023-11-20T00:00:00",
          "2023-11-21T00:00:00",
          "2023-11-22T00:00:00",
          "2023-11-24T00:00:00",
          "2023-11-27T00:00:00",
          "2023-11-28T00:00:00",
          "2023-11-29T00:00:00",
          "2023-11-30T00:00:00",
          "2023-12-01T00:00:00",
          "2023-12-04T00:00:00",
          "2023-12-05T00:00:00",
          "2023-12-06T00:00:00",
          "2023-12-07T00:00:00",
          "2023-12-08T00:00:00",
          "2023-12-11T00:00:00",
          "2023-12-12T00:00:00",
          "2023-12-13T00:00:00",
          "2023-12-14T00:00:00",
          "2023-12-15T00:00:00",
          "2023-12-18T00:00:00",
          "2023-12-19T00:00:00",
          "2023-12-20T00:00:00",
          "2023-12-21T00:00:00",
          "2023-12-22T00:00:00",
          "2023-12-26T00:00:00",
          "2023-12-27T00:00:00",
          "2023-12-28T00:00:00",
          "2023-12-29T00:00:00",
          "2024-01-02T00:00:00",
          "2024-01-03T00:00:00",
          "2024-01-04T00:00:00",
          "2024-01-05T00:00:00",
          "2024-01-08T00:00:00",
          "2024-01-09T00:00:00",
          "2024-01-10T00:00:00",
          "2024-01-11T00:00:00",
          "2024-01-12T00:00:00",
          "2024-01-16T00:00:00",
          "2024-01-17T00:00:00",
          "2024-01-18T00:00:00",
          "2024-01-19T00:00:00",
          "2024-01-22T00:00:00",
          "2024-01-23T00:00:00",
          "2024-01-24T00:00:00",
          "2024-01-25T00:00:00",
          "2024-01-26T00:00:00",
          "2024-01-29T00:00:00",
          "2024-01-30T00:00:00",
          "2024-01-31T00:00:00",
          "2024-02-01T00:00:00",
          "2024-02-02T00:00:00",
          "2024-02-05T00:00:00",
          "2024-02-06T00:00:00",
          "2024-02-07T00:00:00",
          "2024-02-08T00:00:00",
          "2024-02-09T00:00:00",
          "2024-02-12T00:00:00",
          "2024-02-13T00:00:00",
          "2024-02-14T00:00:00",
          "2024-02-15T00:00:00",
          "2024-02-16T00:00:00",
          "2024-02-20T00:00:00",
          "2024-02-21T00:00:00",
          "2024-02-22T00:00:00",
          "2024-02-23T00:00:00",
          "2024-02-26T00:00:00",
          "2024-02-27T00:00:00",
          "2024-02-28T00:00:00",
          "2024-02-29T00:00:00",
          "2024-03-01T00:00:00",
          "2024-03-04T00:00:00",
          "2024-03-05T00:00:00",
          "2024-03-06T00:00:00",
          "2024-03-07T00:00:00",
          "2024-03-08T00:00:00",
          "2024-03-11T00:00:00",
          "2024-03-12T00:00:00",
          "2024-03-13T00:00:00",
          "2024-03-14T00:00:00",
          "2024-03-15T00:00:00",
          "2024-03-18T00:00:00",
          "2024-03-19T00:00:00",
          "2024-03-20T00:00:00",
          "2024-03-21T00:00:00",
          "2024-03-22T00:00:00",
          "2024-03-25T00:00:00",
          "2024-03-26T00:00:00",
          "2024-03-27T00:00:00",
          "2024-03-28T00:00:00",
          "2024-04-01T00:00:00",
          "2024-04-02T00:00:00",
          "2024-04-03T00:00:00",
          "2024-04-04T00:00:00",
          "2024-04-05T00:00:00",
          "2024-04-08T00:00:00",
          "2024-04-09T00:00:00",
          "2024-04-10T00:00:00",
          "2024-04-11T00:00:00",
          "2024-04-12T00:00:00",
          "2024-04-15T00:00:00",
          "2024-04-16T00:00:00",
          "2024-04-17T00:00:00",
          "2024-04-18T00:00:00",
          "2024-04-19T00:00:00",
          "2024-04-22T00:00:00",
          "2024-04-23T00:00:00",
          "2024-04-24T00:00:00",
          "2024-04-25T00:00:00",
          "2024-04-26T00:00:00",
          "2024-04-29T00:00:00",
          "2024-04-30T00:00:00",
          "2024-05-01T00:00:00",
          "2024-05-02T00:00:00",
          "2024-05-03T00:00:00",
          "2024-05-06T00:00:00",
          "2024-05-07T00:00:00",
          "2024-05-08T00:00:00",
          "2024-05-09T00:00:00",
          "2024-05-10T00:00:00",
          "2024-05-13T00:00:00",
          "2024-05-14T00:00:00",
          "2024-05-15T00:00:00",
          "2024-05-16T00:00:00",
          "2024-05-17T00:00:00",
          "2024-05-20T00:00:00",
          "2024-05-21T00:00:00",
          "2024-05-22T00:00:00",
          "2024-05-23T00:00:00",
          "2024-05-24T00:00:00",
          "2024-05-28T00:00:00",
          "2024-05-29T00:00:00",
          "2024-05-30T00:00:00",
          "2024-05-31T00:00:00",
          "2024-06-03T00:00:00",
          "2024-06-04T00:00:00",
          "2024-06-05T00:00:00",
          "2024-06-06T00:00:00",
          "2024-06-07T00:00:00",
          "2024-06-10T00:00:00",
          "2024-06-11T00:00:00",
          "2024-06-12T00:00:00",
          "2024-06-13T00:00:00",
          "2024-06-14T00:00:00",
          "2024-06-17T00:00:00",
          "2024-06-18T00:00:00",
          "2024-06-20T00:00:00",
          "2024-06-21T00:00:00",
          "2024-06-24T00:00:00",
          "2024-06-25T00:00:00",
          "2024-06-26T00:00:00",
          "2024-06-27T00:00:00",
          "2024-06-28T00:00:00",
          "2024-07-01T00:00:00",
          "2024-07-02T00:00:00",
          "2024-07-03T00:00:00",
          "2024-07-05T00:00:00",
          "2024-07-08T00:00:00",
          "2024-07-09T00:00:00",
          "2024-07-10T00:00:00",
          "2024-07-11T00:00:00",
          "2024-07-12T00:00:00",
          "2024-07-15T00:00:00",
          "2024-07-16T00:00:00",
          "2024-07-17T00:00:00",
          "2024-07-18T00:00:00",
          "2024-07-19T00:00:00",
          "2024-07-22T00:00:00",
          "2024-07-23T00:00:00",
          "2024-07-24T00:00:00",
          "2024-07-25T00:00:00",
          "2024-07-26T00:00:00",
          "2024-07-29T00:00:00",
          "2024-07-30T00:00:00",
          "2024-07-31T00:00:00",
          "2024-08-01T00:00:00",
          "2024-08-02T00:00:00",
          "2024-08-05T00:00:00",
          "2024-08-06T00:00:00",
          "2024-08-07T00:00:00",
          "2024-08-08T00:00:00",
          "2024-08-09T00:00:00",
          "2024-08-12T00:00:00",
          "2024-08-13T00:00:00",
          "2024-08-14T00:00:00",
          "2024-08-15T00:00:00",
          "2024-08-16T00:00:00",
          "2024-08-19T00:00:00",
          "2024-08-20T00:00:00",
          "2024-08-21T00:00:00",
          "2024-08-22T00:00:00",
          "2024-08-23T00:00:00",
          "2024-08-26T00:00:00",
          "2024-08-27T00:00:00",
          "2024-08-28T00:00:00",
          "2024-08-29T00:00:00",
          "2024-08-30T00:00:00",
          "2024-09-03T00:00:00",
          "2024-09-04T00:00:00",
          "2024-09-05T00:00:00",
          "2024-09-06T00:00:00",
          "2024-09-09T00:00:00",
          "2024-09-10T00:00:00",
          "2024-09-11T00:00:00",
          "2024-09-12T00:00:00",
          "2024-09-13T00:00:00",
          "2024-09-16T00:00:00",
          "2024-09-17T00:00:00",
          "2024-09-18T00:00:00",
          "2024-09-19T00:00:00",
          "2024-09-20T00:00:00",
          "2024-09-23T00:00:00",
          "2024-09-24T00:00:00",
          "2024-09-25T00:00:00",
          "2024-09-26T00:00:00",
          "2024-09-27T00:00:00",
          "2024-09-30T00:00:00",
          "2024-10-01T00:00:00",
          "2024-10-02T00:00:00",
          "2024-10-03T00:00:00",
          "2024-10-04T00:00:00",
          "2024-10-07T00:00:00",
          "2024-10-08T00:00:00",
          "2024-10-09T00:00:00",
          "2024-10-10T00:00:00",
          "2024-10-11T00:00:00",
          "2024-10-14T00:00:00",
          "2024-10-15T00:00:00",
          "2024-10-16T00:00:00",
          "2024-10-17T00:00:00",
          "2024-10-18T00:00:00",
          "2024-10-21T00:00:00",
          "2024-10-22T00:00:00",
          "2024-10-23T00:00:00",
          "2024-10-24T00:00:00",
          "2024-10-25T00:00:00",
          "2024-10-28T00:00:00",
          "2024-10-29T00:00:00",
          "2024-10-30T00:00:00",
          "2024-10-31T00:00:00",
          "2024-11-01T00:00:00",
          "2024-11-04T00:00:00",
          "2024-11-05T00:00:00",
          "2024-11-06T00:00:00",
          "2024-11-07T00:00:00",
          "2024-11-08T00:00:00",
          "2024-11-11T00:00:00",
          "2024-11-12T00:00:00",
          "2024-11-13T00:00:00",
          "2024-11-14T00:00:00",
          "2024-11-15T00:00:00",
          "2024-11-18T00:00:00",
          "2024-11-19T00:00:00",
          "2024-11-20T00:00:00",
          "2024-11-21T00:00:00",
          "2024-11-22T00:00:00",
          "2024-11-25T00:00:00",
          "2024-11-26T00:00:00",
          "2024-11-27T00:00:00",
          "2024-11-29T00:00:00",
          "2024-12-02T00:00:00",
          "2024-12-03T00:00:00",
          "2024-12-04T00:00:00",
          "2024-12-05T00:00:00",
          "2024-12-06T00:00:00",
          "2024-12-09T00:00:00",
          "2024-12-10T00:00:00",
          "2024-12-11T00:00:00",
          "2024-12-12T00:00:00",
          "2024-12-13T00:00:00",
          "2024-12-16T00:00:00",
          "2024-12-17T00:00:00",
          "2024-12-18T00:00:00",
          "2024-12-19T00:00:00",
          "2024-12-20T00:00:00",
          "2024-12-23T00:00:00",
          "2024-12-24T00:00:00",
          "2024-12-26T00:00:00",
          "2024-12-27T00:00:00",
          "2024-12-30T00:00:00",
          "2024-12-31T00:00:00"
         ],
         "xaxis": "x",
         "y": [
          126.40521240234375,
          127.96807861328125,
          123.66049194335938,
          127.88016510009766,
          128.98391723632812,
          125.98519134521484,
          125.80941009521484,
          127.85088348388672,
          125.91681671142578,
          124.18794250488281,
          124.8619155883789,
          128.9644012451172,
          133.69200134277344,
          135.84095764160156,
          139.6015625,
          139.83596801757812,
          138.7615203857422,
          133.90687561035156,
          128.8960418701172,
          131.025390625,
          131.85568237304688,
          130.83009338378906,
          134.19996643066406,
          133.78419494628906,
          133.9309539794922,
          133.05050659179688,
          132.44398498535156,
          132.18963623046875,
          132.42442321777344,
          130.2918701171875,
          127.99298095703125,
          126.88761901855469,
          127.04410552978516,
          123.2583236694336,
          123.12135314941406,
          122.62246704101562,
          118.35733032226562,
          118.62146759033203,
          125.0093765258789,
          122.39746856689453,
          119.4040756225586,
          117.51606750488281,
          118.7779769897461,
          113.82809448242188,
          118.45516204833984,
          117.36932373046875,
          119.30623626708984,
          118.3964614868164,
          121.29206085205078,
          122.8376693725586,
          122.0452880859375,
          117.90734100341797,
          117.37909698486328,
          120.70512390136719,
          119.87361907958984,
          117.47691345214844,
          117.9660415649414,
          118.57254028320312,
          118.7486343383789,
          117.29106140136719,
          119.49211120605469,
          120.3235855102539,
          123.1604995727539,
          123.46375274658203,
          125.11698150634766,
          127.52347564697266,
          130.10604858398438,
          128.38429260253906,
          131.50489807128906,
          129.15711975097656,
          131.5733642578125,
          131.24075317382812,
          131.9059600830078,
          130.213623046875,
          130.5950927734375,
          129.06910705566406,
          131.39730834960938,
          131.78858947753906,
          131.4657745361328,
          130.67340087890625,
          130.57554626464844,
          128.59954833984375,
          129.656005859375,
          125.06807708740234,
          125.3126449584961,
          126.91696166992188,
          127.59307098388672,
          124.30060577392578,
          123.3794937133789,
          120.3025894165039,
          122.45838165283203,
          124.88853454589844,
          123.73224639892578,
          122.3407974243164,
          122.18401336669922,
          124.7513656616211,
          122.90914154052734,
          124.54557037353516,
          124.3495864868164,
          124.30060577392578,
          122.76214599609375,
          122.1056137084961,
          121.7822494506836,
          122.54657745361328,
          121.05712890625,
          123.35990142822266,
          123.36968231201172,
          124.19282531738281,
          124.57496643066406,
          123.57546997070312,
          124.79056549072266,
          127.85765075683594,
          127.03453063964844,
          127.53429412841797,
          129.14132690429688,
          127.83805084228516,
          129.64108276367188,
          131.28729248046875,
          131.01295471191406,
          130.72874450683594,
          130.43478393554688,
          132.07122802734375,
          133.59005737304688,
          134.20742797851562,
          134.5111846923828,
          137.14712524414062,
          139.16571044921875,
          141.6644744873047,
          140.36122131347656,
          142.193603515625,
          141.5959014892578,
          142.71298217773438,
          146.15240478515625,
          145.49591064453125,
          143.44790649414062,
          139.5870819091797,
          143.21273803710938,
          142.47776794433594,
          143.8496856689453,
          145.57427978515625,
          145.99563598632812,
          143.8202667236328,
          142.06625366210938,
          142.71298217773438,
          142.92855834960938,
          142.5953826904297,
          144.3983917236328,
          143.9966278076172,
          144.1044158935547,
          143.41744995117188,
          143.368408203125,
          142.88751220703125,
          143.1427001953125,
          146.11622619628906,
          146.32235717773438,
          148.30470275878906,
          147.39202880859375,
          143.63339233398438,
          143.967041015625,
          145.42930603027344,
          146.9209747314453,
          146.8326416015625,
          145.5961151123047,
          144.79141235351562,
          145.83164978027344,
          150.2674560546875,
          149.00146484375,
          149.66879272460938,
          150.78753662109375,
          151.42543029785156,
          153.7709503173828,
          152.22035217285156,
          151.19973754882812,
          146.1947784423828,
          146.76394653320312,
          145.360595703125,
          146.2536163330078,
          146.01809692382812,
          143.33897399902344,
          140.27706909179688,
          140.75796508789062,
          143.1328887939453,
          144.09461975097656,
          144.1829376220703,
          142.66184997558594,
          139.2662811279297,
          140.1691436767578,
          138.86390686035156,
          139.9924774169922,
          136.54788208007812,
          138.48118591308594,
          139.3546142578125,
          140.62057495117188,
          140.23782348632812,
          140.1494903564453,
          138.87371826171875,
          138.28489685058594,
          141.081787109375,
          142.1416778564453,
          143.81985473632812,
          145.9886474609375,
          146.4793243408203,
          146.69522094726562,
          145.91998291015625,
          145.87088012695312,
          146.53823852539062,
          146.07701110839844,
          149.72767639160156,
          147.00927734375,
          146.18496704101562,
          147.2251739501953,
          148.6678009033203,
          148.14768981933594,
          148.67837524414062,
          147.85284423828125,
          148.21646118164062,
          145.3761444091797,
          145.3270263671875,
          147.4105987548828,
          147.42041015625,
          148.40318298339844,
          150.85040283203125,
          155.15509033203125,
          157.78895568847656,
          158.25091552734375,
          158.63417053222656,
          159.15509033203125,
          154.11326599121094,
          157.48431396484375,
          162.45726013183594,
          161.9364013671875,
          160.94375610351562,
          159.05679321289062,
          162.47694396972656,
          168.23614501953125,
          172.06906127929688,
          171.55807495117188,
          176.3639373779297,
          172.71775817871094,
          171.3319854736328,
          176.21652221679688,
          169.29757690429688,
          168.19686889648438,
          166.83074951171875,
          170.01504516601562,
          172.6194610595703,
          173.2484588623047,
          177.2288055419922,
          176.20669555664062,
          176.295166015625,
          175.13540649414062,
          174.5162353515625,
          178.87991333007812,
          176.60960388183594,
          171.91183471679688,
          169.0420379638672,
          169.20913696289062,
          169.22882080078125,
          172.06906127929688,
          172.51133728027344,
          169.22882080078125,
          170.0936737060547,
          166.87991333007812,
          163.37130737304688,
          161.68084716796875,
          159.61697387695312,
          158.840576171875,
          157.03221130371094,
          156.94374084472656,
          156.48182678222656,
          167.40077209472656,
          171.77426147460938,
          171.60719299316406,
          172.81602478027344,
          169.92657470703125,
          169.64120483398438,
          168.9228515625,
          172.0422821044922,
          173.46920776367188,
          169.37550354003906,
          165.95103454589844,
          166.1871795654297,
          170.03485107421875,
          169.7986602783203,
          166.1871795654297,
          164.6324005126953,
          161.69992065429688,
          157.5176544189453,
          160.14508056640625,
          162.22145080566406,
          162.48709106445312,
          160.59776306152344,
          163.90419006347656,
          163.57945251464844,
          160.5682373046875,
          156.75991821289062,
          154.9295654296875,
          160.3517303466797,
          155.9923858642578,
          152.26280212402344,
          148.21836853027344,
          152.6170654296875,
          157.0453338623047,
          158.05889892578125,
          161.36532592773438,
          162.74301147460938,
          166.12814331054688,
          167.49600219726562,
          171.29443359375,
          171.9340362548828,
          172.80001831054688,
          176.10647583007812,
          174.93540954589844,
          171.82583618164062,
          171.5305938720703,
          175.5947265625,
          172.26866149902344,
          169.0901641845703,
          169.3951873779297,
          167.37791442871094,
          163.10708618164062,
          164.9866485595703,
          167.6829376220703,
          162.65438842773438,
          162.4379425048828,
          164.7307891845703,
          164.56349182128906,
          163.76638793945312,
          159.21022033691406,
          160.2828369140625,
          154.29981994628906,
          154.0734405517578,
          161.03073120117188,
          155.13626098632812,
          155.44131469726562,
          156.93707275390625,
          163.37277221679688,
          154.27029418945312,
          154.99951171875,
          149.85519409179688,
          152.26971435546875,
          144.3758544921875,
          140.4929962158203,
          144.97702026367188,
          143.4297637939453,
          147.0760955810547,
          138.77822875976562,
          135.3585205078125,
          135.59503173828125,
          141.03501892089844,
          138.3248748779297,
          138.48255920410156,
          141.69529724121094,
          147.47030639648438,
          146.68190002441406,
          146.55381774902344,
          149.01754760742188,
          143.2720947265625,
          144.02102661132812,
          146.55381774902344,
          145.81468200683594,
          140.57183837890625,
          135.14169311523438,
          129.9678497314453,
          130.83506774902344,
          133.46633911132812,
          128.17420959472656,
          129.6524658203125,
          133.89996337890625,
          133.3875274658203,
          136.26516723632812,
          139.6060333251953,
          139.6060333251953,
          135.4472198486328,
          137.21121215820312,
          134.7376708984375,
          136.9156036376953,
          139.50747680664062,
          140.84776306152344,
          144.22802734375,
          144.90802001953125,
          142.7694549560547,
          143.74514770507812,
          143.38050842285156,
          146.3173065185547,
          147.9926300048828,
          144.93759155273438,
          148.81057739257812,
          150.82101440429688,
          153.09751892089844,
          151.8557891845703,
          150.73231506347656,
          149.4019012451172,
          154.51663208007812,
          155.06854248046875,
          160.15365600585938,
          159.16819763183594,
          157.68997192382812,
          163.72122192382812,
          163.4058837890625,
          163.1789093017578,
          162.7051544189453,
          162.75453186035156,
          167.01783752441406,
          166.27764892578125,
          169.84024047851562,
          170.9159393310547,
          170.75804138183594,
          172.25807189941406,
          171.86331176757812,
          169.2678680419922,
          165.36973571777344,
          165.03419494628906,
          165.33023071289062,
          167.7974395751953,
          161.4716339111328,
          159.26101684570312,
          156.82342529296875,
          155.1556396484375,
          155.8859405517578,
          153.76412963867188,
          152.50096130371094,
          153.91220092773438,
          152.431884765625,
          155.3036651611328,
          161.2841033935547,
          151.82000732421875,
          153.27072143554688,
          150.36932373046875,
          148.72122192382812,
          152.45159912109375,
          154.83982849121094,
          151.70159912109375,
          150.73446655273438,
          148.45477294921875,
          148.79034423828125,
          149.767333984375,
          147.87252807617188,
          140.60916137695312,
          136.38536071777344,
          140.57955932617188,
          144.18162536621094,
          144.4777069091797,
          143.52044677734375,
          138.2505645751953,
          138.5762176513672,
          137.1551055908203,
          136.52354431152344,
          141.1124725341797,
          136.56300354003906,
          140.54010009765625,
          141.8625030517578,
          141.9710693359375,
          141.50723266601562,
          145.33628845214844,
          147.4876708984375,
          150.33970642089844,
          147.3889617919922,
          142.8987274169922,
          153.695068359375,
          151.32655334472656,
          148.67190551757812,
          143.1256866455078,
          137.0564727783203,
          136.78956604003906,
          137.32333374023438,
          137.8966827392578,
          133.3198699951172,
          145.18197631835938,
          147.97946166992188,
          146.57579040527344,
          148.3155517578125,
          147.0799102783203,
          148.98773193359375,
          149.55117797851562,
          146.30885314941406,
          148.45391845703125,
          149.33370971679688,
          146.4077606201172,
          142.5624237060547,
          139.5474853515625,
          146.32864379882812,
          146.6054229736328,
          146.1111602783203,
          144.94473266601562,
          141.26747131347656,
          139.32012939453125,
          141.01048278808594,
          140.52610778808594,
          142.829345703125,
          143.79806518554688,
          141.56405639648438,
          134.93118286132812,
          132.96401977539062,
          130.84861755371094,
          130.7794189453125,
          133.8932342529297,
          130.71023559570312,
          130.344482421875,
          128.5355224609375,
          124.59137725830078,
          128.120361328125,
          128.4366455078125,
          123.63251495361328,
          124.90769958496094,
          123.58309936523438,
          128.13023376464844,
          128.6541290283203,
          129.2274627685547,
          131.95579528808594,
          131.87667846679688,
          133.21115112304688,
          134.3776092529297,
          133.65599060058594,
          133.71530151367188,
          136.28541564941406,
          139.48817443847656,
          140.89186096191406,
          140.2295684814453,
          142.30543518066406,
          144.25274658203125,
          141.35646057128906,
          142.63162231445312,
          143.75851440429688,
          149.08656311035156,
          152.7242889404297,
          149.98611450195312,
          152.87254333496094,
          150.17393493652344,
          149.135986328125,
          149.50233459472656,
          152.31396484375,
          151.67044067382812,
          153.77920532226562,
          152.17535400390625,
          151.0269317626953,
          146.99755859375,
          147.4232635498047,
          147.90838623046875,
          145.24522399902344,
          146.44314575195312,
          145.93826293945312,
          143.8592071533203,
          144.45323181152344,
          149.5220947265625,
          152.29415893554688,
          150.08642578125,
          151.34373474121094,
          149.08651733398438,
          147.01736450195312,
          148.96768188476562,
          151.0665283203125,
          151.4625244140625,
          154.2939910888672,
          153.4524688720703,
          155.82850646972656,
          157.6897430419922,
          156.25424194335938,
          157.34323120117188,
          158.65005493164062,
          156.69973754882812,
          156.0760040283203,
          159.16488647460938,
          160.73899841308594,
          163.25363159179688,
          164.51095581054688,
          163.97634887695312,
          162.125,
          163.01602172851562,
          160.4122772216797,
          159.194580078125,
          158.50155639648438,
          163.90704345703125,
          163.560546875,
          163.58033752441406,
          164.80795288085938,
          165.95635986328125,
          164.98617553710938,
          163.37245178222656,
          163.6793212890625,
          162.13490295410156,
          162.125,
          166.7285919189453,
          167.9858856201172,
          167.89678955078125,
          166.85728454589844,
          165.77816772460938,
          164.13475036621094,
          171.8370819091797,
          171.7677764892578,
          170.05503845214844,
          171.82716369628906,
          172.01527404785156,
          171.0833740234375,
          170.58767700195312,
          170.58767700195312,
          171.20233154296875,
          173.54200744628906,
          173.6510467529297,
          172.6993408203125,
          170.08206176757812,
          170.35964965820312,
          171.499755859375,
          173.91871643066406,
          175.7726287841797,
          175.7230224609375,
          178.53855895996094,
          179.39117431640625,
          178.03297424316406,
          177.66616821289062,
          176.2881317138672,
          179.0144500732422,
          179.40109252929688,
          182.2067108154297,
          181.7308349609375,
          182.36532592773438,
          184.40757751464844,
          183.3269805908203,
          183.41619873046875,
          182.37527465820312,
          185.3890380859375,
          185.07180786132812,
          183.67398071289062,
          186.43992614746094,
          187.61968994140625,
          187.95675659179688,
          192.2990264892578,
          190.802001953125,
          189.6817626953125,
          190.15762329101562,
          189.03733825683594,
          186.98521423339844,
          186.4597625732422,
          188.13519287109375,
          188.8985595703125,
          189.04727172851562,
          192.31883239746094,
          192.06106567382812,
          193.41928100585938,
          191.46624755859375,
          190.28651428222656,
          191.08950805664062,
          191.9520263671875,
          192.82444763183594,
          191.55548095703125,
          194.14300537109375,
          194.75765991210938,
          193.92486572265625,
          190.92100524902344,
          189.52313232421875,
          180.42221069335938,
          177.3092803955078,
          178.25108337402344,
          176.6549530029297,
          176.4368438720703,
          176.4964141845703,
          178.15428161621094,
          176.15887451171875,
          175.28529357910156,
          172.73399353027344,
          173.22044372558594,
          174.5605926513672,
          175.9404754638672,
          179.80218505859375,
          175.0966796875,
          177.31045532226562,
          178.8789520263672,
          182.7803497314453,
          186.28466796875,
          186.50306701660156,
          188.0814971923828,
          188.31973266601562,
          181.5791473388672,
          176.26809692382812,
          176.88357543945312,
          178.05499267578125,
          175.0172576904297,
          172.94247436523438,
          174.46133422851562,
          173.73663330078125,
          176.67510986328125,
          177.76712036132812,
          174.21315002441406,
          172.66448974609375,
          173.5182342529297,
          174.79885864257812,
          170.70884704589844,
          169.18994140625,
          169.4480743408203,
          169.9642791748047,
          172.48582458496094,
          171.1456298828125,
          172.39645385742188,
          173.63735961914062,
          176.19859313964844,
          177.68768310546875,
          177.09205627441406,
          178.49179077148438,
          179.3951873779297,
          177.54872131347656,
          177.41964721679688,
          175.86106872558594,
          174.5605926513672,
          174.18338012695312,
          171.62213134765625,
          171.74127197265625,
          172.1780548095703,
          169.85511779785156,
          165.6757354736328,
          166.9960479736328,
          169.05096435546875,
          169.5275115966797,
          172.70420837402344,
          176.27801513671875,
          175.3647003173828,
          177.92591857910156,
          180.49708557128906,
          181.55931091308594,
          181.08279418945312,
          185.2875518798828,
          183.6970977783203,
          186.32135009765625,
          186.88795471191406,
          188.5778045654297,
          188.55792236328125,
          190.3074188232422,
          189.50222778320312,
          190.16824340820312,
          188.83624267578125,
          188.65731811523438,
          189.263671875,
          188.23980712890625,
          188.81634521484375,
          190.09866333007812,
          188.29946899414062,
          192.26564025878906,
          191.17222595214844,
          193.11056518554688,
          194.5419921875,
          192.027099609375,
          193.5479736328125,
          196.778564453125,
          196.9276580810547,
          196.39088439941406,
          194.7209014892578,
          195.76466369628906,
          193.66725158691406,
          193.5181121826172,
          192.444580078125,
          191.89785766601562,
          191.9972686767578,
          192.42469787597656,
          191.38096618652344,
          184.53208923339844,
          183.150390625,
          180.82437133789062,
          180.0987091064453,
          184.4525604248047,
          184.0350799560547,
          185.07879638671875,
          184.48239135742188,
          184.81040954589844,
          182.53408813476562,
          181.58973693847656,
          187.50424194335938,
          190.41676330566406,
          192.73284912109375,
          194.01515197753906,
          193.33920288085938,
          193.01116943359375,
          191.27162170410156,
          190.5857391357422,
          186.9177703857422,
          183.29949951171875,
          185.74481201171875,
          184.74082946777344,
          186.55990600585938,
          188.17025756835938,
          188.2795867919922,
          187.1961212158203,
          187.96246337890625,
          186.27044677734375,
          184.1703643798828,
          183.28456115722656,
          182.99594116210938,
          181.4532012939453,
          180.7067108154297,
          181.4631805419922,
          183.50350952148438,
          181.66221618652344,
          180.30860900878906,
          181.77169799804688,
          180.5673828125,
          179.9005584716797,
          178.81565856933594,
          174.27711486816406,
          169.3204803466797,
          168.3251953125,
          168.20574951171875,
          169.9276123046875,
          171.93814086914062,
          172.41586303710938,
          170.3257598876953,
          172.1869659423828,
          171.80873107910156,
          172.90357971191406,
          175.2524871826172,
          177.830322265625,
          170.5646209716797,
          171.47035217285156,
          170.0470733642578,
          168.91241455078125,
          172.49549865722656,
          170.67410278320312,
          169.2309112548828,
          168.0465087890625,
          168.8527069091797,
          168.026611328125,
          168.7830352783203,
          167.65835571289062,
          168.8726043701172,
          166.99148559570312,
          174.2173614501953,
          175.72027587890625,
          171.87841796875,
          168.583984375,
          167.21046447753906,
          166.2549591064453,
          164.22454833984375,
          165.0606231689453,
          166.11561584472656,
          168.22567749023438,
          169.09156799316406,
          168.5043487548828,
          172.6846160888672,
          169.52952575683594,
          168.5043487548828,
          172.21682739257812,
          182.51817321777344,
          180.85604858398438,
          181.54278564453125,
          181.8811798095703,
          183.70260620117188,
          182.4368438720703,
          185.65602111816406,
          186.8021697998047,
          189.0845184326172,
          189.2041015625,
          189.23399353027344,
          190.40008544921875,
          191.70570373535156,
          190.2605438232422,
          186.25401306152344,
          189.3436279296875,
          189.3535919189453,
          189.652587890625,
          190.6492462158203,
          191.60601806640625,
          193.38006591796875,
          193.69900512695312,
          195.21389770507812,
          193.82855224609375,
          196.23046875,
          192.47311401367188,
          206.4561004638672,
          212.35629272460938,
          213.5223846435547,
          211.7782440185547,
          215.94422912597656,
          213.5721893310547,
          208.97764587402344,
          206.79498291015625,
          207.4427947998047,
          208.36968994140625,
          212.5356903076172,
          213.38284301757812,
          209.9144744873047,
          216.02395629882812,
          219.53216552734375,
          220.80787658691406,
          225.5818328857422,
          227.056884765625,
          227.9139862060547,
          232.1995849609375,
          226.80772399902344,
          229.76776123046875,
          233.61483764648438,
          234.03343200683594,
          228.1133270263672,
          223.42906188964844,
          223.55862426757812,
          223.20982360839844,
          224.25628662109375,
          217.80796813964844,
          216.76148986816406,
          217.22991943359375,
          217.50897216796875,
          218.0670928955078,
          221.3361053466797,
          217.62855529785156,
          219.12355041503906,
          208.56903076171875,
          206.53585815429688,
          209.11717224121094,
          212.59548950195312,
          215.51568603515625,
          217.0522918701172,
          220.78407287597656,
          221.23309326171875,
          224.22650146484375,
          225.5535888671875,
          225.39393615722656,
          226.0125732421875,
          225.90280151367188,
          224.03692626953125,
          226.3418426513672,
          226.68109130859375,
          227.5292205810547,
          225.99261474609375,
          229.28536987304688,
          228.49710083007812,
          222.28077697753906,
          220.36500549316406,
          221.89163208007812,
          220.3350830078125,
          220.42486572265625,
          219.6266326904297,
          222.1710205078125,
          222.28077697753906,
          222.01138305664062,
          215.84495544433594,
          216.31390380859375,
          220.20535278320312,
          228.3673858642578,
          227.6988525390625,
          225.97265625,
          226.8706817626953,
          225.8728790283203,
          227.02035522460938,
          227.2897491455078,
          232.4883270263672,
          225.71324157714844,
          226.281982421875,
          225.17440795898438,
          226.30194091796875,
          221.20315551757812,
          225.27420043945312,
          229.03591918945312,
          228.53701782226562,
          227.05029296875,
          230.79205322265625,
          233.33645629882812,
          231.27099609375,
          231.6401824951172,
          234.48391723632812,
          235.96067810058594,
          235.342041015625,
          230.25323486328125,
          230.0636749267578,
          230.9018096923828,
          232.88743591308594,
          233.15684509277344,
          229.5946807861328,
          225.4138946533203,
          222.42047119140625,
          221.52244567871094,
          222.95928955078125,
          222.23089599609375,
          226.98043823242188,
          226.7107391357422,
          223.98373413085938,
          223.98373413085938,
          224.8727569580078,
          227.9693603515625,
          224.7528839111328,
          227.7695770263672,
          228.02928161621094,
          228.7484893798828,
          228.26902770996094,
          229.61753845214844,
          232.61424255371094,
          234.8018341064453,
          234.67198181152344,
          237.06935119628906,
          239.3268585205078,
          242.3834991455078,
          242.74310302734375,
          242.7730712890625,
          242.5732879638672,
          246.47900390625,
          247.4978790283203,
          246.2192840576172,
          247.68768310546875,
          247.85748291015625,
          250.7642822265625,
          253.20159912109375,
          247.77757263183594,
          249.51565551757812,
          254.21051025390625,
          254.98965454101562,
          257.91644287109375,
          258.7355041503906,
          255.30929565429688,
          251.9230194091797,
          250.1449737548828
         ],
         "yaxis": "y"
        }
       ],
       "layout": {
        "legend": {
         "tracegroupgap": 0
        },
        "template": {
         "data": {
          "bar": [
           {
            "error_x": {
             "color": "#f2f5fa"
            },
            "error_y": {
             "color": "#f2f5fa"
            },
            "marker": {
             "line": {
              "color": "rgb(17,17,17)",
              "width": 0.5
             },
             "pattern": {
              "fillmode": "overlay",
              "size": 10,
              "solidity": 0.2
             }
            },
            "type": "bar"
           }
          ],
          "barpolar": [
           {
            "marker": {
             "line": {
              "color": "rgb(17,17,17)",
              "width": 0.5
             },
             "pattern": {
              "fillmode": "overlay",
              "size": 10,
              "solidity": 0.2
             }
            },
            "type": "barpolar"
           }
          ],
          "carpet": [
           {
            "aaxis": {
             "endlinecolor": "#A2B1C6",
             "gridcolor": "#506784",
             "linecolor": "#506784",
             "minorgridcolor": "#506784",
             "startlinecolor": "#A2B1C6"
            },
            "baxis": {
             "endlinecolor": "#A2B1C6",
             "gridcolor": "#506784",
             "linecolor": "#506784",
             "minorgridcolor": "#506784",
             "startlinecolor": "#A2B1C6"
            },
            "type": "carpet"
           }
          ],
          "choropleth": [
           {
            "colorbar": {
             "outlinewidth": 0,
             "ticks": ""
            },
            "type": "choropleth"
           }
          ],
          "contour": [
           {
            "colorbar": {
             "outlinewidth": 0,
             "ticks": ""
            },
            "colorscale": [
             [
              0,
              "#0d0887"
             ],
             [
              0.1111111111111111,
              "#46039f"
             ],
             [
              0.2222222222222222,
              "#7201a8"
             ],
             [
              0.3333333333333333,
              "#9c179e"
             ],
             [
              0.4444444444444444,
              "#bd3786"
             ],
             [
              0.5555555555555556,
              "#d8576b"
             ],
             [
              0.6666666666666666,
              "#ed7953"
             ],
             [
              0.7777777777777778,
              "#fb9f3a"
             ],
             [
              0.8888888888888888,
              "#fdca26"
             ],
             [
              1,
              "#f0f921"
             ]
            ],
            "type": "contour"
           }
          ],
          "contourcarpet": [
           {
            "colorbar": {
             "outlinewidth": 0,
             "ticks": ""
            },
            "type": "contourcarpet"
           }
          ],
          "heatmap": [
           {
            "colorbar": {
             "outlinewidth": 0,
             "ticks": ""
            },
            "colorscale": [
             [
              0,
              "#0d0887"
             ],
             [
              0.1111111111111111,
              "#46039f"
             ],
             [
              0.2222222222222222,
              "#7201a8"
             ],
             [
              0.3333333333333333,
              "#9c179e"
             ],
             [
              0.4444444444444444,
              "#bd3786"
             ],
             [
              0.5555555555555556,
              "#d8576b"
             ],
             [
              0.6666666666666666,
              "#ed7953"
             ],
             [
              0.7777777777777778,
              "#fb9f3a"
             ],
             [
              0.8888888888888888,
              "#fdca26"
             ],
             [
              1,
              "#f0f921"
             ]
            ],
            "type": "heatmap"
           }
          ],
          "heatmapgl": [
           {
            "colorbar": {
             "outlinewidth": 0,
             "ticks": ""
            },
            "colorscale": [
             [
              0,
              "#0d0887"
             ],
             [
              0.1111111111111111,
              "#46039f"
             ],
             [
              0.2222222222222222,
              "#7201a8"
             ],
             [
              0.3333333333333333,
              "#9c179e"
             ],
             [
              0.4444444444444444,
              "#bd3786"
             ],
             [
              0.5555555555555556,
              "#d8576b"
             ],
             [
              0.6666666666666666,
              "#ed7953"
             ],
             [
              0.7777777777777778,
              "#fb9f3a"
             ],
             [
              0.8888888888888888,
              "#fdca26"
             ],
             [
              1,
              "#f0f921"
             ]
            ],
            "type": "heatmapgl"
           }
          ],
          "histogram": [
           {
            "marker": {
             "pattern": {
              "fillmode": "overlay",
              "size": 10,
              "solidity": 0.2
             }
            },
            "type": "histogram"
           }
          ],
          "histogram2d": [
           {
            "colorbar": {
             "outlinewidth": 0,
             "ticks": ""
            },
            "colorscale": [
             [
              0,
              "#0d0887"
             ],
             [
              0.1111111111111111,
              "#46039f"
             ],
             [
              0.2222222222222222,
              "#7201a8"
             ],
             [
              0.3333333333333333,
              "#9c179e"
             ],
             [
              0.4444444444444444,
              "#bd3786"
             ],
             [
              0.5555555555555556,
              "#d8576b"
             ],
             [
              0.6666666666666666,
              "#ed7953"
             ],
             [
              0.7777777777777778,
              "#fb9f3a"
             ],
             [
              0.8888888888888888,
              "#fdca26"
             ],
             [
              1,
              "#f0f921"
             ]
            ],
            "type": "histogram2d"
           }
          ],
          "histogram2dcontour": [
           {
            "colorbar": {
             "outlinewidth": 0,
             "ticks": ""
            },
            "colorscale": [
             [
              0,
              "#0d0887"
             ],
             [
              0.1111111111111111,
              "#46039f"
             ],
             [
              0.2222222222222222,
              "#7201a8"
             ],
             [
              0.3333333333333333,
              "#9c179e"
             ],
             [
              0.4444444444444444,
              "#bd3786"
             ],
             [
              0.5555555555555556,
              "#d8576b"
             ],
             [
              0.6666666666666666,
              "#ed7953"
             ],
             [
              0.7777777777777778,
              "#fb9f3a"
             ],
             [
              0.8888888888888888,
              "#fdca26"
             ],
             [
              1,
              "#f0f921"
             ]
            ],
            "type": "histogram2dcontour"
           }
          ],
          "mesh3d": [
           {
            "colorbar": {
             "outlinewidth": 0,
             "ticks": ""
            },
            "type": "mesh3d"
           }
          ],
          "parcoords": [
           {
            "line": {
             "colorbar": {
              "outlinewidth": 0,
              "ticks": ""
             }
            },
            "type": "parcoords"
           }
          ],
          "pie": [
           {
            "automargin": true,
            "type": "pie"
           }
          ],
          "scatter": [
           {
            "marker": {
             "line": {
              "color": "#283442"
             }
            },
            "type": "scatter"
           }
          ],
          "scatter3d": [
           {
            "line": {
             "colorbar": {
              "outlinewidth": 0,
              "ticks": ""
             }
            },
            "marker": {
             "colorbar": {
              "outlinewidth": 0,
              "ticks": ""
             }
            },
            "type": "scatter3d"
           }
          ],
          "scattercarpet": [
           {
            "marker": {
             "colorbar": {
              "outlinewidth": 0,
              "ticks": ""
             }
            },
            "type": "scattercarpet"
           }
          ],
          "scattergeo": [
           {
            "marker": {
             "colorbar": {
              "outlinewidth": 0,
              "ticks": ""
             }
            },
            "type": "scattergeo"
           }
          ],
          "scattergl": [
           {
            "marker": {
             "line": {
              "color": "#283442"
             }
            },
            "type": "scattergl"
           }
          ],
          "scattermapbox": [
           {
            "marker": {
             "colorbar": {
              "outlinewidth": 0,
              "ticks": ""
             }
            },
            "type": "scattermapbox"
           }
          ],
          "scatterpolar": [
           {
            "marker": {
             "colorbar": {
              "outlinewidth": 0,
              "ticks": ""
             }
            },
            "type": "scatterpolar"
           }
          ],
          "scatterpolargl": [
           {
            "marker": {
             "colorbar": {
              "outlinewidth": 0,
              "ticks": ""
             }
            },
            "type": "scatterpolargl"
           }
          ],
          "scatterternary": [
           {
            "marker": {
             "colorbar": {
              "outlinewidth": 0,
              "ticks": ""
             }
            },
            "type": "scatterternary"
           }
          ],
          "surface": [
           {
            "colorbar": {
             "outlinewidth": 0,
             "ticks": ""
            },
            "colorscale": [
             [
              0,
              "#0d0887"
             ],
             [
              0.1111111111111111,
              "#46039f"
             ],
             [
              0.2222222222222222,
              "#7201a8"
             ],
             [
              0.3333333333333333,
              "#9c179e"
             ],
             [
              0.4444444444444444,
              "#bd3786"
             ],
             [
              0.5555555555555556,
              "#d8576b"
             ],
             [
              0.6666666666666666,
              "#ed7953"
             ],
             [
              0.7777777777777778,
              "#fb9f3a"
             ],
             [
              0.8888888888888888,
              "#fdca26"
             ],
             [
              1,
              "#f0f921"
             ]
            ],
            "type": "surface"
           }
          ],
          "table": [
           {
            "cells": {
             "fill": {
              "color": "#506784"
             },
             "line": {
              "color": "rgb(17,17,17)"
             }
            },
            "header": {
             "fill": {
              "color": "#2a3f5f"
             },
             "line": {
              "color": "rgb(17,17,17)"
             }
            },
            "type": "table"
           }
          ]
         },
         "layout": {
          "annotationdefaults": {
           "arrowcolor": "#f2f5fa",
           "arrowhead": 0,
           "arrowwidth": 1
          },
          "autotypenumbers": "strict",
          "coloraxis": {
           "colorbar": {
            "outlinewidth": 0,
            "ticks": ""
           }
          },
          "colorscale": {
           "diverging": [
            [
             0,
             "#8e0152"
            ],
            [
             0.1,
             "#c51b7d"
            ],
            [
             0.2,
             "#de77ae"
            ],
            [
             0.3,
             "#f1b6da"
            ],
            [
             0.4,
             "#fde0ef"
            ],
            [
             0.5,
             "#f7f7f7"
            ],
            [
             0.6,
             "#e6f5d0"
            ],
            [
             0.7,
             "#b8e186"
            ],
            [
             0.8,
             "#7fbc41"
            ],
            [
             0.9,
             "#4d9221"
            ],
            [
             1,
             "#276419"
            ]
           ],
           "sequential": [
            [
             0,
             "#0d0887"
            ],
            [
             0.1111111111111111,
             "#46039f"
            ],
            [
             0.2222222222222222,
             "#7201a8"
            ],
            [
             0.3333333333333333,
             "#9c179e"
            ],
            [
             0.4444444444444444,
             "#bd3786"
            ],
            [
             0.5555555555555556,
             "#d8576b"
            ],
            [
             0.6666666666666666,
             "#ed7953"
            ],
            [
             0.7777777777777778,
             "#fb9f3a"
            ],
            [
             0.8888888888888888,
             "#fdca26"
            ],
            [
             1,
             "#f0f921"
            ]
           ],
           "sequentialminus": [
            [
             0,
             "#0d0887"
            ],
            [
             0.1111111111111111,
             "#46039f"
            ],
            [
             0.2222222222222222,
             "#7201a8"
            ],
            [
             0.3333333333333333,
             "#9c179e"
            ],
            [
             0.4444444444444444,
             "#bd3786"
            ],
            [
             0.5555555555555556,
             "#d8576b"
            ],
            [
             0.6666666666666666,
             "#ed7953"
            ],
            [
             0.7777777777777778,
             "#fb9f3a"
            ],
            [
             0.8888888888888888,
             "#fdca26"
            ],
            [
             1,
             "#f0f921"
            ]
           ]
          },
          "colorway": [
           "#636efa",
           "#EF553B",
           "#00cc96",
           "#ab63fa",
           "#FFA15A",
           "#19d3f3",
           "#FF6692",
           "#B6E880",
           "#FF97FF",
           "#FECB52"
          ],
          "font": {
           "color": "#f2f5fa"
          },
          "geo": {
           "bgcolor": "rgb(17,17,17)",
           "lakecolor": "rgb(17,17,17)",
           "landcolor": "rgb(17,17,17)",
           "showlakes": true,
           "showland": true,
           "subunitcolor": "#506784"
          },
          "hoverlabel": {
           "align": "left"
          },
          "hovermode": "closest",
          "mapbox": {
           "style": "dark"
          },
          "paper_bgcolor": "rgb(17,17,17)",
          "plot_bgcolor": "rgb(17,17,17)",
          "polar": {
           "angularaxis": {
            "gridcolor": "#506784",
            "linecolor": "#506784",
            "ticks": ""
           },
           "bgcolor": "rgb(17,17,17)",
           "radialaxis": {
            "gridcolor": "#506784",
            "linecolor": "#506784",
            "ticks": ""
           }
          },
          "scene": {
           "xaxis": {
            "backgroundcolor": "rgb(17,17,17)",
            "gridcolor": "#506784",
            "gridwidth": 2,
            "linecolor": "#506784",
            "showbackground": true,
            "ticks": "",
            "zerolinecolor": "#C8D4E3"
           },
           "yaxis": {
            "backgroundcolor": "rgb(17,17,17)",
            "gridcolor": "#506784",
            "gridwidth": 2,
            "linecolor": "#506784",
            "showbackground": true,
            "ticks": "",
            "zerolinecolor": "#C8D4E3"
           },
           "zaxis": {
            "backgroundcolor": "rgb(17,17,17)",
            "gridcolor": "#506784",
            "gridwidth": 2,
            "linecolor": "#506784",
            "showbackground": true,
            "ticks": "",
            "zerolinecolor": "#C8D4E3"
           }
          },
          "shapedefaults": {
           "line": {
            "color": "#f2f5fa"
           }
          },
          "sliderdefaults": {
           "bgcolor": "#C8D4E3",
           "bordercolor": "rgb(17,17,17)",
           "borderwidth": 1,
           "tickwidth": 0
          },
          "ternary": {
           "aaxis": {
            "gridcolor": "#506784",
            "linecolor": "#506784",
            "ticks": ""
           },
           "baxis": {
            "gridcolor": "#506784",
            "linecolor": "#506784",
            "ticks": ""
           },
           "bgcolor": "rgb(17,17,17)",
           "caxis": {
            "gridcolor": "#506784",
            "linecolor": "#506784",
            "ticks": ""
           }
          },
          "title": {
           "x": 0.05
          },
          "updatemenudefaults": {
           "bgcolor": "#506784",
           "borderwidth": 0
          },
          "xaxis": {
           "automargin": true,
           "gridcolor": "#283442",
           "linecolor": "#506784",
           "ticks": "",
           "title": {
            "standoff": 15
           },
           "zerolinecolor": "#283442",
           "zerolinewidth": 2
          },
          "yaxis": {
           "automargin": true,
           "gridcolor": "#283442",
           "linecolor": "#506784",
           "ticks": "",
           "title": {
            "standoff": 15
           },
           "zerolinecolor": "#283442",
           "zerolinewidth": 2
          }
         }
        },
        "title": {
         "text": "Interactive Stock Price Chart"
        },
        "xaxis": {
         "anchor": "y",
         "domain": [
          0,
          1
         ],
         "title": {
          "text": "Date"
         }
        },
        "yaxis": {
         "anchor": "x",
         "domain": [
          0,
          1
         ],
         "title": {
          "text": "Close Price ($)"
         }
        }
       }
      },
      "text/html": [
       "<div>                            <div id=\"b82cb04e-0bd2-4382-8894-1f392306a4ae\" class=\"plotly-graph-div\" style=\"height:525px; width:100%;\"></div>            <script type=\"text/javascript\">                require([\"plotly\"], function(Plotly) {                    window.PLOTLYENV=window.PLOTLYENV || {};                                    if (document.getElementById(\"b82cb04e-0bd2-4382-8894-1f392306a4ae\")) {                    Plotly.newPlot(                        \"b82cb04e-0bd2-4382-8894-1f392306a4ae\",                        [{\"hovertemplate\":\"Date=%{x}\\u003cbr\\u003eClose Price ($)=%{y}\\u003cextra\\u003e\\u003c\\u002fextra\\u003e\",\"legendgroup\":\"\",\"line\":{\"color\":\"#636efa\",\"dash\":\"solid\"},\"marker\":{\"symbol\":\"circle\"},\"mode\":\"lines\",\"name\":\"\",\"showlegend\":false,\"x\":[\"2021-01-04T00:00:00\",\"2021-01-05T00:00:00\",\"2021-01-06T00:00:00\",\"2021-01-07T00:00:00\",\"2021-01-08T00:00:00\",\"2021-01-11T00:00:00\",\"2021-01-12T00:00:00\",\"2021-01-13T00:00:00\",\"2021-01-14T00:00:00\",\"2021-01-15T00:00:00\",\"2021-01-19T00:00:00\",\"2021-01-20T00:00:00\",\"2021-01-21T00:00:00\",\"2021-01-22T00:00:00\",\"2021-01-25T00:00:00\",\"2021-01-26T00:00:00\",\"2021-01-27T00:00:00\",\"2021-01-28T00:00:00\",\"2021-01-29T00:00:00\",\"2021-02-01T00:00:00\",\"2021-02-02T00:00:00\",\"2021-02-03T00:00:00\",\"2021-02-04T00:00:00\",\"2021-02-05T00:00:00\",\"2021-02-08T00:00:00\",\"2021-02-09T00:00:00\",\"2021-02-10T00:00:00\",\"2021-02-11T00:00:00\",\"2021-02-12T00:00:00\",\"2021-02-16T00:00:00\",\"2021-02-17T00:00:00\",\"2021-02-18T00:00:00\",\"2021-02-19T00:00:00\",\"2021-02-22T00:00:00\",\"2021-02-23T00:00:00\",\"2021-02-24T00:00:00\",\"2021-02-25T00:00:00\",\"2021-02-26T00:00:00\",\"2021-03-01T00:00:00\",\"2021-03-02T00:00:00\",\"2021-03-03T00:00:00\",\"2021-03-04T00:00:00\",\"2021-03-05T00:00:00\",\"2021-03-08T00:00:00\",\"2021-03-09T00:00:00\",\"2021-03-10T00:00:00\",\"2021-03-11T00:00:00\",\"2021-03-12T00:00:00\",\"2021-03-15T00:00:00\",\"2021-03-16T00:00:00\",\"2021-03-17T00:00:00\",\"2021-03-18T00:00:00\",\"2021-03-19T00:00:00\",\"2021-03-22T00:00:00\",\"2021-03-23T00:00:00\",\"2021-03-24T00:00:00\",\"2021-03-25T00:00:00\",\"2021-03-26T00:00:00\",\"2021-03-29T00:00:00\",\"2021-03-30T00:00:00\",\"2021-03-31T00:00:00\",\"2021-04-01T00:00:00\",\"2021-04-05T00:00:00\",\"2021-04-06T00:00:00\",\"2021-04-07T00:00:00\",\"2021-04-08T00:00:00\",\"2021-04-09T00:00:00\",\"2021-04-12T00:00:00\",\"2021-04-13T00:00:00\",\"2021-04-14T00:00:00\",\"2021-04-15T00:00:00\",\"2021-04-16T00:00:00\",\"2021-04-19T00:00:00\",\"2021-04-20T00:00:00\",\"2021-04-21T00:00:00\",\"2021-04-22T00:00:00\",\"2021-04-23T00:00:00\",\"2021-04-26T00:00:00\",\"2021-04-27T00:00:00\",\"2021-04-28T00:00:00\",\"2021-04-29T00:00:00\",\"2021-04-30T00:00:00\",\"2021-05-03T00:00:00\",\"2021-05-04T00:00:00\",\"2021-05-05T00:00:00\",\"2021-05-06T00:00:00\",\"2021-05-07T00:00:00\",\"2021-05-10T00:00:00\",\"2021-05-11T00:00:00\",\"2021-05-12T00:00:00\",\"2021-05-13T00:00:00\",\"2021-05-14T00:00:00\",\"2021-05-17T00:00:00\",\"2021-05-18T00:00:00\",\"2021-05-19T00:00:00\",\"2021-05-20T00:00:00\",\"2021-05-21T00:00:00\",\"2021-05-24T00:00:00\",\"2021-05-25T00:00:00\",\"2021-05-26T00:00:00\",\"2021-05-27T00:00:00\",\"2021-05-28T00:00:00\",\"2021-06-01T00:00:00\",\"2021-06-02T00:00:00\",\"2021-06-03T00:00:00\",\"2021-06-04T00:00:00\",\"2021-06-07T00:00:00\",\"2021-06-08T00:00:00\",\"2021-06-09T00:00:00\",\"2021-06-10T00:00:00\",\"2021-06-11T00:00:00\",\"2021-06-14T00:00:00\",\"2021-06-15T00:00:00\",\"2021-06-16T00:00:00\",\"2021-06-17T00:00:00\",\"2021-06-18T00:00:00\",\"2021-06-21T00:00:00\",\"2021-06-22T00:00:00\",\"2021-06-23T00:00:00\",\"2021-06-24T00:00:00\",\"2021-06-25T00:00:00\",\"2021-06-28T00:00:00\",\"2021-06-29T00:00:00\",\"2021-06-30T00:00:00\",\"2021-07-01T00:00:00\",\"2021-07-02T00:00:00\",\"2021-07-06T00:00:00\",\"2021-07-07T00:00:00\",\"2021-07-08T00:00:00\",\"2021-07-09T00:00:00\",\"2021-07-12T00:00:00\",\"2021-07-13T00:00:00\",\"2021-07-14T00:00:00\",\"2021-07-15T00:00:00\",\"2021-07-16T00:00:00\",\"2021-07-19T00:00:00\",\"2021-07-20T00:00:00\",\"2021-07-21T00:00:00\",\"2021-07-22T00:00:00\",\"2021-07-23T00:00:00\",\"2021-07-26T00:00:00\",\"2021-07-27T00:00:00\",\"2021-07-28T00:00:00\",\"2021-07-29T00:00:00\",\"2021-07-30T00:00:00\",\"2021-08-02T00:00:00\",\"2021-08-03T00:00:00\",\"2021-08-04T00:00:00\",\"2021-08-05T00:00:00\",\"2021-08-06T00:00:00\",\"2021-08-09T00:00:00\",\"2021-08-10T00:00:00\",\"2021-08-11T00:00:00\",\"2021-08-12T00:00:00\",\"2021-08-13T00:00:00\",\"2021-08-16T00:00:00\",\"2021-08-17T00:00:00\",\"2021-08-18T00:00:00\",\"2021-08-19T00:00:00\",\"2021-08-20T00:00:00\",\"2021-08-23T00:00:00\",\"2021-08-24T00:00:00\",\"2021-08-25T00:00:00\",\"2021-08-26T00:00:00\",\"2021-08-27T00:00:00\",\"2021-08-30T00:00:00\",\"2021-08-31T00:00:00\",\"2021-09-01T00:00:00\",\"2021-09-02T00:00:00\",\"2021-09-03T00:00:00\",\"2021-09-07T00:00:00\",\"2021-09-08T00:00:00\",\"2021-09-09T00:00:00\",\"2021-09-10T00:00:00\",\"2021-09-13T00:00:00\",\"2021-09-14T00:00:00\",\"2021-09-15T00:00:00\",\"2021-09-16T00:00:00\",\"2021-09-17T00:00:00\",\"2021-09-20T00:00:00\",\"2021-09-21T00:00:00\",\"2021-09-22T00:00:00\",\"2021-09-23T00:00:00\",\"2021-09-24T00:00:00\",\"2021-09-27T00:00:00\",\"2021-09-28T00:00:00\",\"2021-09-29T00:00:00\",\"2021-09-30T00:00:00\",\"2021-10-01T00:00:00\",\"2021-10-04T00:00:00\",\"2021-10-05T00:00:00\",\"2021-10-06T00:00:00\",\"2021-10-07T00:00:00\",\"2021-10-08T00:00:00\",\"2021-10-11T00:00:00\",\"2021-10-12T00:00:00\",\"2021-10-13T00:00:00\",\"2021-10-14T00:00:00\",\"2021-10-15T00:00:00\",\"2021-10-18T00:00:00\",\"2021-10-19T00:00:00\",\"2021-10-20T00:00:00\",\"2021-10-21T00:00:00\",\"2021-10-22T00:00:00\",\"2021-10-25T00:00:00\",\"2021-10-26T00:00:00\",\"2021-10-27T00:00:00\",\"2021-10-28T00:00:00\",\"2021-10-29T00:00:00\",\"2021-11-01T00:00:00\",\"2021-11-02T00:00:00\",\"2021-11-03T00:00:00\",\"2021-11-04T00:00:00\",\"2021-11-05T00:00:00\",\"2021-11-08T00:00:00\",\"2021-11-09T00:00:00\",\"2021-11-10T00:00:00\",\"2021-11-11T00:00:00\",\"2021-11-12T00:00:00\",\"2021-11-15T00:00:00\",\"2021-11-16T00:00:00\",\"2021-11-17T00:00:00\",\"2021-11-18T00:00:00\",\"2021-11-19T00:00:00\",\"2021-11-22T00:00:00\",\"2021-11-23T00:00:00\",\"2021-11-24T00:00:00\",\"2021-11-26T00:00:00\",\"2021-11-29T00:00:00\",\"2021-11-30T00:00:00\",\"2021-12-01T00:00:00\",\"2021-12-02T00:00:00\",\"2021-12-03T00:00:00\",\"2021-12-06T00:00:00\",\"2021-12-07T00:00:00\",\"2021-12-08T00:00:00\",\"2021-12-09T00:00:00\",\"2021-12-10T00:00:00\",\"2021-12-13T00:00:00\",\"2021-12-14T00:00:00\",\"2021-12-15T00:00:00\",\"2021-12-16T00:00:00\",\"2021-12-17T00:00:00\",\"2021-12-20T00:00:00\",\"2021-12-21T00:00:00\",\"2021-12-22T00:00:00\",\"2021-12-23T00:00:00\",\"2021-12-27T00:00:00\",\"2021-12-28T00:00:00\",\"2021-12-29T00:00:00\",\"2021-12-30T00:00:00\",\"2021-12-31T00:00:00\",\"2022-01-03T00:00:00\",\"2022-01-04T00:00:00\",\"2022-01-05T00:00:00\",\"2022-01-06T00:00:00\",\"2022-01-07T00:00:00\",\"2022-01-10T00:00:00\",\"2022-01-11T00:00:00\",\"2022-01-12T00:00:00\",\"2022-01-13T00:00:00\",\"2022-01-14T00:00:00\",\"2022-01-18T00:00:00\",\"2022-01-19T00:00:00\",\"2022-01-20T00:00:00\",\"2022-01-21T00:00:00\",\"2022-01-24T00:00:00\",\"2022-01-25T00:00:00\",\"2022-01-26T00:00:00\",\"2022-01-27T00:00:00\",\"2022-01-28T00:00:00\",\"2022-01-31T00:00:00\",\"2022-02-01T00:00:00\",\"2022-02-02T00:00:00\",\"2022-02-03T00:00:00\",\"2022-02-04T00:00:00\",\"2022-02-07T00:00:00\",\"2022-02-08T00:00:00\",\"2022-02-09T00:00:00\",\"2022-02-10T00:00:00\",\"2022-02-11T00:00:00\",\"2022-02-14T00:00:00\",\"2022-02-15T00:00:00\",\"2022-02-16T00:00:00\",\"2022-02-17T00:00:00\",\"2022-02-18T00:00:00\",\"2022-02-22T00:00:00\",\"2022-02-23T00:00:00\",\"2022-02-24T00:00:00\",\"2022-02-25T00:00:00\",\"2022-02-28T00:00:00\",\"2022-03-01T00:00:00\",\"2022-03-02T00:00:00\",\"2022-03-03T00:00:00\",\"2022-03-04T00:00:00\",\"2022-03-07T00:00:00\",\"2022-03-08T00:00:00\",\"2022-03-09T00:00:00\",\"2022-03-10T00:00:00\",\"2022-03-11T00:00:00\",\"2022-03-14T00:00:00\",\"2022-03-15T00:00:00\",\"2022-03-16T00:00:00\",\"2022-03-17T00:00:00\",\"2022-03-18T00:00:00\",\"2022-03-21T00:00:00\",\"2022-03-22T00:00:00\",\"2022-03-23T00:00:00\",\"2022-03-24T00:00:00\",\"2022-03-25T00:00:00\",\"2022-03-28T00:00:00\",\"2022-03-29T00:00:00\",\"2022-03-30T00:00:00\",\"2022-03-31T00:00:00\",\"2022-04-01T00:00:00\",\"2022-04-04T00:00:00\",\"2022-04-05T00:00:00\",\"2022-04-06T00:00:00\",\"2022-04-07T00:00:00\",\"2022-04-08T00:00:00\",\"2022-04-11T00:00:00\",\"2022-04-12T00:00:00\",\"2022-04-13T00:00:00\",\"2022-04-14T00:00:00\",\"2022-04-18T00:00:00\",\"2022-04-19T00:00:00\",\"2022-04-20T00:00:00\",\"2022-04-21T00:00:00\",\"2022-04-22T00:00:00\",\"2022-04-25T00:00:00\",\"2022-04-26T00:00:00\",\"2022-04-27T00:00:00\",\"2022-04-28T00:00:00\",\"2022-04-29T00:00:00\",\"2022-05-02T00:00:00\",\"2022-05-03T00:00:00\",\"2022-05-04T00:00:00\",\"2022-05-05T00:00:00\",\"2022-05-06T00:00:00\",\"2022-05-09T00:00:00\",\"2022-05-10T00:00:00\",\"2022-05-11T00:00:00\",\"2022-05-12T00:00:00\",\"2022-05-13T00:00:00\",\"2022-05-16T00:00:00\",\"2022-05-17T00:00:00\",\"2022-05-18T00:00:00\",\"2022-05-19T00:00:00\",\"2022-05-20T00:00:00\",\"2022-05-23T00:00:00\",\"2022-05-24T00:00:00\",\"2022-05-25T00:00:00\",\"2022-05-26T00:00:00\",\"2022-05-27T00:00:00\",\"2022-05-31T00:00:00\",\"2022-06-01T00:00:00\",\"2022-06-02T00:00:00\",\"2022-06-03T00:00:00\",\"2022-06-06T00:00:00\",\"2022-06-07T00:00:00\",\"2022-06-08T00:00:00\",\"2022-06-09T00:00:00\",\"2022-06-10T00:00:00\",\"2022-06-13T00:00:00\",\"2022-06-14T00:00:00\",\"2022-06-15T00:00:00\",\"2022-06-16T00:00:00\",\"2022-06-17T00:00:00\",\"2022-06-21T00:00:00\",\"2022-06-22T00:00:00\",\"2022-06-23T00:00:00\",\"2022-06-24T00:00:00\",\"2022-06-27T00:00:00\",\"2022-06-28T00:00:00\",\"2022-06-29T00:00:00\",\"2022-06-30T00:00:00\",\"2022-07-01T00:00:00\",\"2022-07-05T00:00:00\",\"2022-07-06T00:00:00\",\"2022-07-07T00:00:00\",\"2022-07-08T00:00:00\",\"2022-07-11T00:00:00\",\"2022-07-12T00:00:00\",\"2022-07-13T00:00:00\",\"2022-07-14T00:00:00\",\"2022-07-15T00:00:00\",\"2022-07-18T00:00:00\",\"2022-07-19T00:00:00\",\"2022-07-20T00:00:00\",\"2022-07-21T00:00:00\",\"2022-07-22T00:00:00\",\"2022-07-25T00:00:00\",\"2022-07-26T00:00:00\",\"2022-07-27T00:00:00\",\"2022-07-28T00:00:00\",\"2022-07-29T00:00:00\",\"2022-08-01T00:00:00\",\"2022-08-02T00:00:00\",\"2022-08-03T00:00:00\",\"2022-08-04T00:00:00\",\"2022-08-05T00:00:00\",\"2022-08-08T00:00:00\",\"2022-08-09T00:00:00\",\"2022-08-10T00:00:00\",\"2022-08-11T00:00:00\",\"2022-08-12T00:00:00\",\"2022-08-15T00:00:00\",\"2022-08-16T00:00:00\",\"2022-08-17T00:00:00\",\"2022-08-18T00:00:00\",\"2022-08-19T00:00:00\",\"2022-08-22T00:00:00\",\"2022-08-23T00:00:00\",\"2022-08-24T00:00:00\",\"2022-08-25T00:00:00\",\"2022-08-26T00:00:00\",\"2022-08-29T00:00:00\",\"2022-08-30T00:00:00\",\"2022-08-31T00:00:00\",\"2022-09-01T00:00:00\",\"2022-09-02T00:00:00\",\"2022-09-06T00:00:00\",\"2022-09-07T00:00:00\",\"2022-09-08T00:00:00\",\"2022-09-09T00:00:00\",\"2022-09-12T00:00:00\",\"2022-09-13T00:00:00\",\"2022-09-14T00:00:00\",\"2022-09-15T00:00:00\",\"2022-09-16T00:00:00\",\"2022-09-19T00:00:00\",\"2022-09-20T00:00:00\",\"2022-09-21T00:00:00\",\"2022-09-22T00:00:00\",\"2022-09-23T00:00:00\",\"2022-09-26T00:00:00\",\"2022-09-27T00:00:00\",\"2022-09-28T00:00:00\",\"2022-09-29T00:00:00\",\"2022-09-30T00:00:00\",\"2022-10-03T00:00:00\",\"2022-10-04T00:00:00\",\"2022-10-05T00:00:00\",\"2022-10-06T00:00:00\",\"2022-10-07T00:00:00\",\"2022-10-10T00:00:00\",\"2022-10-11T00:00:00\",\"2022-10-12T00:00:00\",\"2022-10-13T00:00:00\",\"2022-10-14T00:00:00\",\"2022-10-17T00:00:00\",\"2022-10-18T00:00:00\",\"2022-10-19T00:00:00\",\"2022-10-20T00:00:00\",\"2022-10-21T00:00:00\",\"2022-10-24T00:00:00\",\"2022-10-25T00:00:00\",\"2022-10-26T00:00:00\",\"2022-10-27T00:00:00\",\"2022-10-28T00:00:00\",\"2022-10-31T00:00:00\",\"2022-11-01T00:00:00\",\"2022-11-02T00:00:00\",\"2022-11-03T00:00:00\",\"2022-11-04T00:00:00\",\"2022-11-07T00:00:00\",\"2022-11-08T00:00:00\",\"2022-11-09T00:00:00\",\"2022-11-10T00:00:00\",\"2022-11-11T00:00:00\",\"2022-11-14T00:00:00\",\"2022-11-15T00:00:00\",\"2022-11-16T00:00:00\",\"2022-11-17T00:00:00\",\"2022-11-18T00:00:00\",\"2022-11-21T00:00:00\",\"2022-11-22T00:00:00\",\"2022-11-23T00:00:00\",\"2022-11-25T00:00:00\",\"2022-11-28T00:00:00\",\"2022-11-29T00:00:00\",\"2022-11-30T00:00:00\",\"2022-12-01T00:00:00\",\"2022-12-02T00:00:00\",\"2022-12-05T00:00:00\",\"2022-12-06T00:00:00\",\"2022-12-07T00:00:00\",\"2022-12-08T00:00:00\",\"2022-12-09T00:00:00\",\"2022-12-12T00:00:00\",\"2022-12-13T00:00:00\",\"2022-12-14T00:00:00\",\"2022-12-15T00:00:00\",\"2022-12-16T00:00:00\",\"2022-12-19T00:00:00\",\"2022-12-20T00:00:00\",\"2022-12-21T00:00:00\",\"2022-12-22T00:00:00\",\"2022-12-23T00:00:00\",\"2022-12-27T00:00:00\",\"2022-12-28T00:00:00\",\"2022-12-29T00:00:00\",\"2022-12-30T00:00:00\",\"2023-01-03T00:00:00\",\"2023-01-04T00:00:00\",\"2023-01-05T00:00:00\",\"2023-01-06T00:00:00\",\"2023-01-09T00:00:00\",\"2023-01-10T00:00:00\",\"2023-01-11T00:00:00\",\"2023-01-12T00:00:00\",\"2023-01-13T00:00:00\",\"2023-01-17T00:00:00\",\"2023-01-18T00:00:00\",\"2023-01-19T00:00:00\",\"2023-01-20T00:00:00\",\"2023-01-23T00:00:00\",\"2023-01-24T00:00:00\",\"2023-01-25T00:00:00\",\"2023-01-26T00:00:00\",\"2023-01-27T00:00:00\",\"2023-01-30T00:00:00\",\"2023-01-31T00:00:00\",\"2023-02-01T00:00:00\",\"2023-02-02T00:00:00\",\"2023-02-03T00:00:00\",\"2023-02-06T00:00:00\",\"2023-02-07T00:00:00\",\"2023-02-08T00:00:00\",\"2023-02-09T00:00:00\",\"2023-02-10T00:00:00\",\"2023-02-13T00:00:00\",\"2023-02-14T00:00:00\",\"2023-02-15T00:00:00\",\"2023-02-16T00:00:00\",\"2023-02-17T00:00:00\",\"2023-02-21T00:00:00\",\"2023-02-22T00:00:00\",\"2023-02-23T00:00:00\",\"2023-02-24T00:00:00\",\"2023-02-27T00:00:00\",\"2023-02-28T00:00:00\",\"2023-03-01T00:00:00\",\"2023-03-02T00:00:00\",\"2023-03-03T00:00:00\",\"2023-03-06T00:00:00\",\"2023-03-07T00:00:00\",\"2023-03-08T00:00:00\",\"2023-03-09T00:00:00\",\"2023-03-10T00:00:00\",\"2023-03-13T00:00:00\",\"2023-03-14T00:00:00\",\"2023-03-15T00:00:00\",\"2023-03-16T00:00:00\",\"2023-03-17T00:00:00\",\"2023-03-20T00:00:00\",\"2023-03-21T00:00:00\",\"2023-03-22T00:00:00\",\"2023-03-23T00:00:00\",\"2023-03-24T00:00:00\",\"2023-03-27T00:00:00\",\"2023-03-28T00:00:00\",\"2023-03-29T00:00:00\",\"2023-03-30T00:00:00\",\"2023-03-31T00:00:00\",\"2023-04-03T00:00:00\",\"2023-04-04T00:00:00\",\"2023-04-05T00:00:00\",\"2023-04-06T00:00:00\",\"2023-04-10T00:00:00\",\"2023-04-11T00:00:00\",\"2023-04-12T00:00:00\",\"2023-04-13T00:00:00\",\"2023-04-14T00:00:00\",\"2023-04-17T00:00:00\",\"2023-04-18T00:00:00\",\"2023-04-19T00:00:00\",\"2023-04-20T00:00:00\",\"2023-04-21T00:00:00\",\"2023-04-24T00:00:00\",\"2023-04-25T00:00:00\",\"2023-04-26T00:00:00\",\"2023-04-27T00:00:00\",\"2023-04-28T00:00:00\",\"2023-05-01T00:00:00\",\"2023-05-02T00:00:00\",\"2023-05-03T00:00:00\",\"2023-05-04T00:00:00\",\"2023-05-05T00:00:00\",\"2023-05-08T00:00:00\",\"2023-05-09T00:00:00\",\"2023-05-10T00:00:00\",\"2023-05-11T00:00:00\",\"2023-05-12T00:00:00\",\"2023-05-15T00:00:00\",\"2023-05-16T00:00:00\",\"2023-05-17T00:00:00\",\"2023-05-18T00:00:00\",\"2023-05-19T00:00:00\",\"2023-05-22T00:00:00\",\"2023-05-23T00:00:00\",\"2023-05-24T00:00:00\",\"2023-05-25T00:00:00\",\"2023-05-26T00:00:00\",\"2023-05-30T00:00:00\",\"2023-05-31T00:00:00\",\"2023-06-01T00:00:00\",\"2023-06-02T00:00:00\",\"2023-06-05T00:00:00\",\"2023-06-06T00:00:00\",\"2023-06-07T00:00:00\",\"2023-06-08T00:00:00\",\"2023-06-09T00:00:00\",\"2023-06-12T00:00:00\",\"2023-06-13T00:00:00\",\"2023-06-14T00:00:00\",\"2023-06-15T00:00:00\",\"2023-06-16T00:00:00\",\"2023-06-20T00:00:00\",\"2023-06-21T00:00:00\",\"2023-06-22T00:00:00\",\"2023-06-23T00:00:00\",\"2023-06-26T00:00:00\",\"2023-06-27T00:00:00\",\"2023-06-28T00:00:00\",\"2023-06-29T00:00:00\",\"2023-06-30T00:00:00\",\"2023-07-03T00:00:00\",\"2023-07-05T00:00:00\",\"2023-07-06T00:00:00\",\"2023-07-07T00:00:00\",\"2023-07-10T00:00:00\",\"2023-07-11T00:00:00\",\"2023-07-12T00:00:00\",\"2023-07-13T00:00:00\",\"2023-07-14T00:00:00\",\"2023-07-17T00:00:00\",\"2023-07-18T00:00:00\",\"2023-07-19T00:00:00\",\"2023-07-20T00:00:00\",\"2023-07-21T00:00:00\",\"2023-07-24T00:00:00\",\"2023-07-25T00:00:00\",\"2023-07-26T00:00:00\",\"2023-07-27T00:00:00\",\"2023-07-28T00:00:00\",\"2023-07-31T00:00:00\",\"2023-08-01T00:00:00\",\"2023-08-02T00:00:00\",\"2023-08-03T00:00:00\",\"2023-08-04T00:00:00\",\"2023-08-07T00:00:00\",\"2023-08-08T00:00:00\",\"2023-08-09T00:00:00\",\"2023-08-10T00:00:00\",\"2023-08-11T00:00:00\",\"2023-08-14T00:00:00\",\"2023-08-15T00:00:00\",\"2023-08-16T00:00:00\",\"2023-08-17T00:00:00\",\"2023-08-18T00:00:00\",\"2023-08-21T00:00:00\",\"2023-08-22T00:00:00\",\"2023-08-23T00:00:00\",\"2023-08-24T00:00:00\",\"2023-08-25T00:00:00\",\"2023-08-28T00:00:00\",\"2023-08-29T00:00:00\",\"2023-08-30T00:00:00\",\"2023-08-31T00:00:00\",\"2023-09-01T00:00:00\",\"2023-09-05T00:00:00\",\"2023-09-06T00:00:00\",\"2023-09-07T00:00:00\",\"2023-09-08T00:00:00\",\"2023-09-11T00:00:00\",\"2023-09-12T00:00:00\",\"2023-09-13T00:00:00\",\"2023-09-14T00:00:00\",\"2023-09-15T00:00:00\",\"2023-09-18T00:00:00\",\"2023-09-19T00:00:00\",\"2023-09-20T00:00:00\",\"2023-09-21T00:00:00\",\"2023-09-22T00:00:00\",\"2023-09-25T00:00:00\",\"2023-09-26T00:00:00\",\"2023-09-27T00:00:00\",\"2023-09-28T00:00:00\",\"2023-09-29T00:00:00\",\"2023-10-02T00:00:00\",\"2023-10-03T00:00:00\",\"2023-10-04T00:00:00\",\"2023-10-05T00:00:00\",\"2023-10-06T00:00:00\",\"2023-10-09T00:00:00\",\"2023-10-10T00:00:00\",\"2023-10-11T00:00:00\",\"2023-10-12T00:00:00\",\"2023-10-13T00:00:00\",\"2023-10-16T00:00:00\",\"2023-10-17T00:00:00\",\"2023-10-18T00:00:00\",\"2023-10-19T00:00:00\",\"2023-10-20T00:00:00\",\"2023-10-23T00:00:00\",\"2023-10-24T00:00:00\",\"2023-10-25T00:00:00\",\"2023-10-26T00:00:00\",\"2023-10-27T00:00:00\",\"2023-10-30T00:00:00\",\"2023-10-31T00:00:00\",\"2023-11-01T00:00:00\",\"2023-11-02T00:00:00\",\"2023-11-03T00:00:00\",\"2023-11-06T00:00:00\",\"2023-11-07T00:00:00\",\"2023-11-08T00:00:00\",\"2023-11-09T00:00:00\",\"2023-11-10T00:00:00\",\"2023-11-13T00:00:00\",\"2023-11-14T00:00:00\",\"2023-11-15T00:00:00\",\"2023-11-16T00:00:00\",\"2023-11-17T00:00:00\",\"2023-11-20T00:00:00\",\"2023-11-21T00:00:00\",\"2023-11-22T00:00:00\",\"2023-11-24T00:00:00\",\"2023-11-27T00:00:00\",\"2023-11-28T00:00:00\",\"2023-11-29T00:00:00\",\"2023-11-30T00:00:00\",\"2023-12-01T00:00:00\",\"2023-12-04T00:00:00\",\"2023-12-05T00:00:00\",\"2023-12-06T00:00:00\",\"2023-12-07T00:00:00\",\"2023-12-08T00:00:00\",\"2023-12-11T00:00:00\",\"2023-12-12T00:00:00\",\"2023-12-13T00:00:00\",\"2023-12-14T00:00:00\",\"2023-12-15T00:00:00\",\"2023-12-18T00:00:00\",\"2023-12-19T00:00:00\",\"2023-12-20T00:00:00\",\"2023-12-21T00:00:00\",\"2023-12-22T00:00:00\",\"2023-12-26T00:00:00\",\"2023-12-27T00:00:00\",\"2023-12-28T00:00:00\",\"2023-12-29T00:00:00\",\"2024-01-02T00:00:00\",\"2024-01-03T00:00:00\",\"2024-01-04T00:00:00\",\"2024-01-05T00:00:00\",\"2024-01-08T00:00:00\",\"2024-01-09T00:00:00\",\"2024-01-10T00:00:00\",\"2024-01-11T00:00:00\",\"2024-01-12T00:00:00\",\"2024-01-16T00:00:00\",\"2024-01-17T00:00:00\",\"2024-01-18T00:00:00\",\"2024-01-19T00:00:00\",\"2024-01-22T00:00:00\",\"2024-01-23T00:00:00\",\"2024-01-24T00:00:00\",\"2024-01-25T00:00:00\",\"2024-01-26T00:00:00\",\"2024-01-29T00:00:00\",\"2024-01-30T00:00:00\",\"2024-01-31T00:00:00\",\"2024-02-01T00:00:00\",\"2024-02-02T00:00:00\",\"2024-02-05T00:00:00\",\"2024-02-06T00:00:00\",\"2024-02-07T00:00:00\",\"2024-02-08T00:00:00\",\"2024-02-09T00:00:00\",\"2024-02-12T00:00:00\",\"2024-02-13T00:00:00\",\"2024-02-14T00:00:00\",\"2024-02-15T00:00:00\",\"2024-02-16T00:00:00\",\"2024-02-20T00:00:00\",\"2024-02-21T00:00:00\",\"2024-02-22T00:00:00\",\"2024-02-23T00:00:00\",\"2024-02-26T00:00:00\",\"2024-02-27T00:00:00\",\"2024-02-28T00:00:00\",\"2024-02-29T00:00:00\",\"2024-03-01T00:00:00\",\"2024-03-04T00:00:00\",\"2024-03-05T00:00:00\",\"2024-03-06T00:00:00\",\"2024-03-07T00:00:00\",\"2024-03-08T00:00:00\",\"2024-03-11T00:00:00\",\"2024-03-12T00:00:00\",\"2024-03-13T00:00:00\",\"2024-03-14T00:00:00\",\"2024-03-15T00:00:00\",\"2024-03-18T00:00:00\",\"2024-03-19T00:00:00\",\"2024-03-20T00:00:00\",\"2024-03-21T00:00:00\",\"2024-03-22T00:00:00\",\"2024-03-25T00:00:00\",\"2024-03-26T00:00:00\",\"2024-03-27T00:00:00\",\"2024-03-28T00:00:00\",\"2024-04-01T00:00:00\",\"2024-04-02T00:00:00\",\"2024-04-03T00:00:00\",\"2024-04-04T00:00:00\",\"2024-04-05T00:00:00\",\"2024-04-08T00:00:00\",\"2024-04-09T00:00:00\",\"2024-04-10T00:00:00\",\"2024-04-11T00:00:00\",\"2024-04-12T00:00:00\",\"2024-04-15T00:00:00\",\"2024-04-16T00:00:00\",\"2024-04-17T00:00:00\",\"2024-04-18T00:00:00\",\"2024-04-19T00:00:00\",\"2024-04-22T00:00:00\",\"2024-04-23T00:00:00\",\"2024-04-24T00:00:00\",\"2024-04-25T00:00:00\",\"2024-04-26T00:00:00\",\"2024-04-29T00:00:00\",\"2024-04-30T00:00:00\",\"2024-05-01T00:00:00\",\"2024-05-02T00:00:00\",\"2024-05-03T00:00:00\",\"2024-05-06T00:00:00\",\"2024-05-07T00:00:00\",\"2024-05-08T00:00:00\",\"2024-05-09T00:00:00\",\"2024-05-10T00:00:00\",\"2024-05-13T00:00:00\",\"2024-05-14T00:00:00\",\"2024-05-15T00:00:00\",\"2024-05-16T00:00:00\",\"2024-05-17T00:00:00\",\"2024-05-20T00:00:00\",\"2024-05-21T00:00:00\",\"2024-05-22T00:00:00\",\"2024-05-23T00:00:00\",\"2024-05-24T00:00:00\",\"2024-05-28T00:00:00\",\"2024-05-29T00:00:00\",\"2024-05-30T00:00:00\",\"2024-05-31T00:00:00\",\"2024-06-03T00:00:00\",\"2024-06-04T00:00:00\",\"2024-06-05T00:00:00\",\"2024-06-06T00:00:00\",\"2024-06-07T00:00:00\",\"2024-06-10T00:00:00\",\"2024-06-11T00:00:00\",\"2024-06-12T00:00:00\",\"2024-06-13T00:00:00\",\"2024-06-14T00:00:00\",\"2024-06-17T00:00:00\",\"2024-06-18T00:00:00\",\"2024-06-20T00:00:00\",\"2024-06-21T00:00:00\",\"2024-06-24T00:00:00\",\"2024-06-25T00:00:00\",\"2024-06-26T00:00:00\",\"2024-06-27T00:00:00\",\"2024-06-28T00:00:00\",\"2024-07-01T00:00:00\",\"2024-07-02T00:00:00\",\"2024-07-03T00:00:00\",\"2024-07-05T00:00:00\",\"2024-07-08T00:00:00\",\"2024-07-09T00:00:00\",\"2024-07-10T00:00:00\",\"2024-07-11T00:00:00\",\"2024-07-12T00:00:00\",\"2024-07-15T00:00:00\",\"2024-07-16T00:00:00\",\"2024-07-17T00:00:00\",\"2024-07-18T00:00:00\",\"2024-07-19T00:00:00\",\"2024-07-22T00:00:00\",\"2024-07-23T00:00:00\",\"2024-07-24T00:00:00\",\"2024-07-25T00:00:00\",\"2024-07-26T00:00:00\",\"2024-07-29T00:00:00\",\"2024-07-30T00:00:00\",\"2024-07-31T00:00:00\",\"2024-08-01T00:00:00\",\"2024-08-02T00:00:00\",\"2024-08-05T00:00:00\",\"2024-08-06T00:00:00\",\"2024-08-07T00:00:00\",\"2024-08-08T00:00:00\",\"2024-08-09T00:00:00\",\"2024-08-12T00:00:00\",\"2024-08-13T00:00:00\",\"2024-08-14T00:00:00\",\"2024-08-15T00:00:00\",\"2024-08-16T00:00:00\",\"2024-08-19T00:00:00\",\"2024-08-20T00:00:00\",\"2024-08-21T00:00:00\",\"2024-08-22T00:00:00\",\"2024-08-23T00:00:00\",\"2024-08-26T00:00:00\",\"2024-08-27T00:00:00\",\"2024-08-28T00:00:00\",\"2024-08-29T00:00:00\",\"2024-08-30T00:00:00\",\"2024-09-03T00:00:00\",\"2024-09-04T00:00:00\",\"2024-09-05T00:00:00\",\"2024-09-06T00:00:00\",\"2024-09-09T00:00:00\",\"2024-09-10T00:00:00\",\"2024-09-11T00:00:00\",\"2024-09-12T00:00:00\",\"2024-09-13T00:00:00\",\"2024-09-16T00:00:00\",\"2024-09-17T00:00:00\",\"2024-09-18T00:00:00\",\"2024-09-19T00:00:00\",\"2024-09-20T00:00:00\",\"2024-09-23T00:00:00\",\"2024-09-24T00:00:00\",\"2024-09-25T00:00:00\",\"2024-09-26T00:00:00\",\"2024-09-27T00:00:00\",\"2024-09-30T00:00:00\",\"2024-10-01T00:00:00\",\"2024-10-02T00:00:00\",\"2024-10-03T00:00:00\",\"2024-10-04T00:00:00\",\"2024-10-07T00:00:00\",\"2024-10-08T00:00:00\",\"2024-10-09T00:00:00\",\"2024-10-10T00:00:00\",\"2024-10-11T00:00:00\",\"2024-10-14T00:00:00\",\"2024-10-15T00:00:00\",\"2024-10-16T00:00:00\",\"2024-10-17T00:00:00\",\"2024-10-18T00:00:00\",\"2024-10-21T00:00:00\",\"2024-10-22T00:00:00\",\"2024-10-23T00:00:00\",\"2024-10-24T00:00:00\",\"2024-10-25T00:00:00\",\"2024-10-28T00:00:00\",\"2024-10-29T00:00:00\",\"2024-10-30T00:00:00\",\"2024-10-31T00:00:00\",\"2024-11-01T00:00:00\",\"2024-11-04T00:00:00\",\"2024-11-05T00:00:00\",\"2024-11-06T00:00:00\",\"2024-11-07T00:00:00\",\"2024-11-08T00:00:00\",\"2024-11-11T00:00:00\",\"2024-11-12T00:00:00\",\"2024-11-13T00:00:00\",\"2024-11-14T00:00:00\",\"2024-11-15T00:00:00\",\"2024-11-18T00:00:00\",\"2024-11-19T00:00:00\",\"2024-11-20T00:00:00\",\"2024-11-21T00:00:00\",\"2024-11-22T00:00:00\",\"2024-11-25T00:00:00\",\"2024-11-26T00:00:00\",\"2024-11-27T00:00:00\",\"2024-11-29T00:00:00\",\"2024-12-02T00:00:00\",\"2024-12-03T00:00:00\",\"2024-12-04T00:00:00\",\"2024-12-05T00:00:00\",\"2024-12-06T00:00:00\",\"2024-12-09T00:00:00\",\"2024-12-10T00:00:00\",\"2024-12-11T00:00:00\",\"2024-12-12T00:00:00\",\"2024-12-13T00:00:00\",\"2024-12-16T00:00:00\",\"2024-12-17T00:00:00\",\"2024-12-18T00:00:00\",\"2024-12-19T00:00:00\",\"2024-12-20T00:00:00\",\"2024-12-23T00:00:00\",\"2024-12-24T00:00:00\",\"2024-12-26T00:00:00\",\"2024-12-27T00:00:00\",\"2024-12-30T00:00:00\",\"2024-12-31T00:00:00\"],\"xaxis\":\"x\",\"y\":[126.40521240234375,127.96807861328125,123.66049194335938,127.88016510009766,128.98391723632812,125.98519134521484,125.80941009521484,127.85088348388672,125.91681671142578,124.18794250488281,124.8619155883789,128.9644012451172,133.69200134277344,135.84095764160156,139.6015625,139.83596801757812,138.7615203857422,133.90687561035156,128.8960418701172,131.025390625,131.85568237304688,130.83009338378906,134.19996643066406,133.78419494628906,133.9309539794922,133.05050659179688,132.44398498535156,132.18963623046875,132.42442321777344,130.2918701171875,127.99298095703125,126.88761901855469,127.04410552978516,123.2583236694336,123.12135314941406,122.62246704101562,118.35733032226562,118.62146759033203,125.0093765258789,122.39746856689453,119.4040756225586,117.51606750488281,118.7779769897461,113.82809448242188,118.45516204833984,117.36932373046875,119.30623626708984,118.3964614868164,121.29206085205078,122.8376693725586,122.0452880859375,117.90734100341797,117.37909698486328,120.70512390136719,119.87361907958984,117.47691345214844,117.9660415649414,118.57254028320312,118.7486343383789,117.29106140136719,119.49211120605469,120.3235855102539,123.1604995727539,123.46375274658203,125.11698150634766,127.52347564697266,130.10604858398438,128.38429260253906,131.50489807128906,129.15711975097656,131.5733642578125,131.24075317382812,131.9059600830078,130.213623046875,130.5950927734375,129.06910705566406,131.39730834960938,131.78858947753906,131.4657745361328,130.67340087890625,130.57554626464844,128.59954833984375,129.656005859375,125.06807708740234,125.3126449584961,126.91696166992188,127.59307098388672,124.30060577392578,123.3794937133789,120.3025894165039,122.45838165283203,124.88853454589844,123.73224639892578,122.3407974243164,122.18401336669922,124.7513656616211,122.90914154052734,124.54557037353516,124.3495864868164,124.30060577392578,122.76214599609375,122.1056137084961,121.7822494506836,122.54657745361328,121.05712890625,123.35990142822266,123.36968231201172,124.19282531738281,124.57496643066406,123.57546997070312,124.79056549072266,127.85765075683594,127.03453063964844,127.53429412841797,129.14132690429688,127.83805084228516,129.64108276367188,131.28729248046875,131.01295471191406,130.72874450683594,130.43478393554688,132.07122802734375,133.59005737304688,134.20742797851562,134.5111846923828,137.14712524414062,139.16571044921875,141.6644744873047,140.36122131347656,142.193603515625,141.5959014892578,142.71298217773438,146.15240478515625,145.49591064453125,143.44790649414062,139.5870819091797,143.21273803710938,142.47776794433594,143.8496856689453,145.57427978515625,145.99563598632812,143.8202667236328,142.06625366210938,142.71298217773438,142.92855834960938,142.5953826904297,144.3983917236328,143.9966278076172,144.1044158935547,143.41744995117188,143.368408203125,142.88751220703125,143.1427001953125,146.11622619628906,146.32235717773438,148.30470275878906,147.39202880859375,143.63339233398438,143.967041015625,145.42930603027344,146.9209747314453,146.8326416015625,145.5961151123047,144.79141235351562,145.83164978027344,150.2674560546875,149.00146484375,149.66879272460938,150.78753662109375,151.42543029785156,153.7709503173828,152.22035217285156,151.19973754882812,146.1947784423828,146.76394653320312,145.360595703125,146.2536163330078,146.01809692382812,143.33897399902344,140.27706909179688,140.75796508789062,143.1328887939453,144.09461975097656,144.1829376220703,142.66184997558594,139.2662811279297,140.1691436767578,138.86390686035156,139.9924774169922,136.54788208007812,138.48118591308594,139.3546142578125,140.62057495117188,140.23782348632812,140.1494903564453,138.87371826171875,138.28489685058594,141.081787109375,142.1416778564453,143.81985473632812,145.9886474609375,146.4793243408203,146.69522094726562,145.91998291015625,145.87088012695312,146.53823852539062,146.07701110839844,149.72767639160156,147.00927734375,146.18496704101562,147.2251739501953,148.6678009033203,148.14768981933594,148.67837524414062,147.85284423828125,148.21646118164062,145.3761444091797,145.3270263671875,147.4105987548828,147.42041015625,148.40318298339844,150.85040283203125,155.15509033203125,157.78895568847656,158.25091552734375,158.63417053222656,159.15509033203125,154.11326599121094,157.48431396484375,162.45726013183594,161.9364013671875,160.94375610351562,159.05679321289062,162.47694396972656,168.23614501953125,172.06906127929688,171.55807495117188,176.3639373779297,172.71775817871094,171.3319854736328,176.21652221679688,169.29757690429688,168.19686889648438,166.83074951171875,170.01504516601562,172.6194610595703,173.2484588623047,177.2288055419922,176.20669555664062,176.295166015625,175.13540649414062,174.5162353515625,178.87991333007812,176.60960388183594,171.91183471679688,169.0420379638672,169.20913696289062,169.22882080078125,172.06906127929688,172.51133728027344,169.22882080078125,170.0936737060547,166.87991333007812,163.37130737304688,161.68084716796875,159.61697387695312,158.840576171875,157.03221130371094,156.94374084472656,156.48182678222656,167.40077209472656,171.77426147460938,171.60719299316406,172.81602478027344,169.92657470703125,169.64120483398438,168.9228515625,172.0422821044922,173.46920776367188,169.37550354003906,165.95103454589844,166.1871795654297,170.03485107421875,169.7986602783203,166.1871795654297,164.6324005126953,161.69992065429688,157.5176544189453,160.14508056640625,162.22145080566406,162.48709106445312,160.59776306152344,163.90419006347656,163.57945251464844,160.5682373046875,156.75991821289062,154.9295654296875,160.3517303466797,155.9923858642578,152.26280212402344,148.21836853027344,152.6170654296875,157.0453338623047,158.05889892578125,161.36532592773438,162.74301147460938,166.12814331054688,167.49600219726562,171.29443359375,171.9340362548828,172.80001831054688,176.10647583007812,174.93540954589844,171.82583618164062,171.5305938720703,175.5947265625,172.26866149902344,169.0901641845703,169.3951873779297,167.37791442871094,163.10708618164062,164.9866485595703,167.6829376220703,162.65438842773438,162.4379425048828,164.7307891845703,164.56349182128906,163.76638793945312,159.21022033691406,160.2828369140625,154.29981994628906,154.0734405517578,161.03073120117188,155.13626098632812,155.44131469726562,156.93707275390625,163.37277221679688,154.27029418945312,154.99951171875,149.85519409179688,152.26971435546875,144.3758544921875,140.4929962158203,144.97702026367188,143.4297637939453,147.0760955810547,138.77822875976562,135.3585205078125,135.59503173828125,141.03501892089844,138.3248748779297,138.48255920410156,141.69529724121094,147.47030639648438,146.68190002441406,146.55381774902344,149.01754760742188,143.2720947265625,144.02102661132812,146.55381774902344,145.81468200683594,140.57183837890625,135.14169311523438,129.9678497314453,130.83506774902344,133.46633911132812,128.17420959472656,129.6524658203125,133.89996337890625,133.3875274658203,136.26516723632812,139.6060333251953,139.6060333251953,135.4472198486328,137.21121215820312,134.7376708984375,136.9156036376953,139.50747680664062,140.84776306152344,144.22802734375,144.90802001953125,142.7694549560547,143.74514770507812,143.38050842285156,146.3173065185547,147.9926300048828,144.93759155273438,148.81057739257812,150.82101440429688,153.09751892089844,151.8557891845703,150.73231506347656,149.4019012451172,154.51663208007812,155.06854248046875,160.15365600585938,159.16819763183594,157.68997192382812,163.72122192382812,163.4058837890625,163.1789093017578,162.7051544189453,162.75453186035156,167.01783752441406,166.27764892578125,169.84024047851562,170.9159393310547,170.75804138183594,172.25807189941406,171.86331176757812,169.2678680419922,165.36973571777344,165.03419494628906,165.33023071289062,167.7974395751953,161.4716339111328,159.26101684570312,156.82342529296875,155.1556396484375,155.8859405517578,153.76412963867188,152.50096130371094,153.91220092773438,152.431884765625,155.3036651611328,161.2841033935547,151.82000732421875,153.27072143554688,150.36932373046875,148.72122192382812,152.45159912109375,154.83982849121094,151.70159912109375,150.73446655273438,148.45477294921875,148.79034423828125,149.767333984375,147.87252807617188,140.60916137695312,136.38536071777344,140.57955932617188,144.18162536621094,144.4777069091797,143.52044677734375,138.2505645751953,138.5762176513672,137.1551055908203,136.52354431152344,141.1124725341797,136.56300354003906,140.54010009765625,141.8625030517578,141.9710693359375,141.50723266601562,145.33628845214844,147.4876708984375,150.33970642089844,147.3889617919922,142.8987274169922,153.695068359375,151.32655334472656,148.67190551757812,143.1256866455078,137.0564727783203,136.78956604003906,137.32333374023438,137.8966827392578,133.3198699951172,145.18197631835938,147.97946166992188,146.57579040527344,148.3155517578125,147.0799102783203,148.98773193359375,149.55117797851562,146.30885314941406,148.45391845703125,149.33370971679688,146.4077606201172,142.5624237060547,139.5474853515625,146.32864379882812,146.6054229736328,146.1111602783203,144.94473266601562,141.26747131347656,139.32012939453125,141.01048278808594,140.52610778808594,142.829345703125,143.79806518554688,141.56405639648438,134.93118286132812,132.96401977539062,130.84861755371094,130.7794189453125,133.8932342529297,130.71023559570312,130.344482421875,128.5355224609375,124.59137725830078,128.120361328125,128.4366455078125,123.63251495361328,124.90769958496094,123.58309936523438,128.13023376464844,128.6541290283203,129.2274627685547,131.95579528808594,131.87667846679688,133.21115112304688,134.3776092529297,133.65599060058594,133.71530151367188,136.28541564941406,139.48817443847656,140.89186096191406,140.2295684814453,142.30543518066406,144.25274658203125,141.35646057128906,142.63162231445312,143.75851440429688,149.08656311035156,152.7242889404297,149.98611450195312,152.87254333496094,150.17393493652344,149.135986328125,149.50233459472656,152.31396484375,151.67044067382812,153.77920532226562,152.17535400390625,151.0269317626953,146.99755859375,147.4232635498047,147.90838623046875,145.24522399902344,146.44314575195312,145.93826293945312,143.8592071533203,144.45323181152344,149.5220947265625,152.29415893554688,150.08642578125,151.34373474121094,149.08651733398438,147.01736450195312,148.96768188476562,151.0665283203125,151.4625244140625,154.2939910888672,153.4524688720703,155.82850646972656,157.6897430419922,156.25424194335938,157.34323120117188,158.65005493164062,156.69973754882812,156.0760040283203,159.16488647460938,160.73899841308594,163.25363159179688,164.51095581054688,163.97634887695312,162.125,163.01602172851562,160.4122772216797,159.194580078125,158.50155639648438,163.90704345703125,163.560546875,163.58033752441406,164.80795288085938,165.95635986328125,164.98617553710938,163.37245178222656,163.6793212890625,162.13490295410156,162.125,166.7285919189453,167.9858856201172,167.89678955078125,166.85728454589844,165.77816772460938,164.13475036621094,171.8370819091797,171.7677764892578,170.05503845214844,171.82716369628906,172.01527404785156,171.0833740234375,170.58767700195312,170.58767700195312,171.20233154296875,173.54200744628906,173.6510467529297,172.6993408203125,170.08206176757812,170.35964965820312,171.499755859375,173.91871643066406,175.7726287841797,175.7230224609375,178.53855895996094,179.39117431640625,178.03297424316406,177.66616821289062,176.2881317138672,179.0144500732422,179.40109252929688,182.2067108154297,181.7308349609375,182.36532592773438,184.40757751464844,183.3269805908203,183.41619873046875,182.37527465820312,185.3890380859375,185.07180786132812,183.67398071289062,186.43992614746094,187.61968994140625,187.95675659179688,192.2990264892578,190.802001953125,189.6817626953125,190.15762329101562,189.03733825683594,186.98521423339844,186.4597625732422,188.13519287109375,188.8985595703125,189.04727172851562,192.31883239746094,192.06106567382812,193.41928100585938,191.46624755859375,190.28651428222656,191.08950805664062,191.9520263671875,192.82444763183594,191.55548095703125,194.14300537109375,194.75765991210938,193.92486572265625,190.92100524902344,189.52313232421875,180.42221069335938,177.3092803955078,178.25108337402344,176.6549530029297,176.4368438720703,176.4964141845703,178.15428161621094,176.15887451171875,175.28529357910156,172.73399353027344,173.22044372558594,174.5605926513672,175.9404754638672,179.80218505859375,175.0966796875,177.31045532226562,178.8789520263672,182.7803497314453,186.28466796875,186.50306701660156,188.0814971923828,188.31973266601562,181.5791473388672,176.26809692382812,176.88357543945312,178.05499267578125,175.0172576904297,172.94247436523438,174.46133422851562,173.73663330078125,176.67510986328125,177.76712036132812,174.21315002441406,172.66448974609375,173.5182342529297,174.79885864257812,170.70884704589844,169.18994140625,169.4480743408203,169.9642791748047,172.48582458496094,171.1456298828125,172.39645385742188,173.63735961914062,176.19859313964844,177.68768310546875,177.09205627441406,178.49179077148438,179.3951873779297,177.54872131347656,177.41964721679688,175.86106872558594,174.5605926513672,174.18338012695312,171.62213134765625,171.74127197265625,172.1780548095703,169.85511779785156,165.6757354736328,166.9960479736328,169.05096435546875,169.5275115966797,172.70420837402344,176.27801513671875,175.3647003173828,177.92591857910156,180.49708557128906,181.55931091308594,181.08279418945312,185.2875518798828,183.6970977783203,186.32135009765625,186.88795471191406,188.5778045654297,188.55792236328125,190.3074188232422,189.50222778320312,190.16824340820312,188.83624267578125,188.65731811523438,189.263671875,188.23980712890625,188.81634521484375,190.09866333007812,188.29946899414062,192.26564025878906,191.17222595214844,193.11056518554688,194.5419921875,192.027099609375,193.5479736328125,196.778564453125,196.9276580810547,196.39088439941406,194.7209014892578,195.76466369628906,193.66725158691406,193.5181121826172,192.444580078125,191.89785766601562,191.9972686767578,192.42469787597656,191.38096618652344,184.53208923339844,183.150390625,180.82437133789062,180.0987091064453,184.4525604248047,184.0350799560547,185.07879638671875,184.48239135742188,184.81040954589844,182.53408813476562,181.58973693847656,187.50424194335938,190.41676330566406,192.73284912109375,194.01515197753906,193.33920288085938,193.01116943359375,191.27162170410156,190.5857391357422,186.9177703857422,183.29949951171875,185.74481201171875,184.74082946777344,186.55990600585938,188.17025756835938,188.2795867919922,187.1961212158203,187.96246337890625,186.27044677734375,184.1703643798828,183.28456115722656,182.99594116210938,181.4532012939453,180.7067108154297,181.4631805419922,183.50350952148438,181.66221618652344,180.30860900878906,181.77169799804688,180.5673828125,179.9005584716797,178.81565856933594,174.27711486816406,169.3204803466797,168.3251953125,168.20574951171875,169.9276123046875,171.93814086914062,172.41586303710938,170.3257598876953,172.1869659423828,171.80873107910156,172.90357971191406,175.2524871826172,177.830322265625,170.5646209716797,171.47035217285156,170.0470733642578,168.91241455078125,172.49549865722656,170.67410278320312,169.2309112548828,168.0465087890625,168.8527069091797,168.026611328125,168.7830352783203,167.65835571289062,168.8726043701172,166.99148559570312,174.2173614501953,175.72027587890625,171.87841796875,168.583984375,167.21046447753906,166.2549591064453,164.22454833984375,165.0606231689453,166.11561584472656,168.22567749023438,169.09156799316406,168.5043487548828,172.6846160888672,169.52952575683594,168.5043487548828,172.21682739257812,182.51817321777344,180.85604858398438,181.54278564453125,181.8811798095703,183.70260620117188,182.4368438720703,185.65602111816406,186.8021697998047,189.0845184326172,189.2041015625,189.23399353027344,190.40008544921875,191.70570373535156,190.2605438232422,186.25401306152344,189.3436279296875,189.3535919189453,189.652587890625,190.6492462158203,191.60601806640625,193.38006591796875,193.69900512695312,195.21389770507812,193.82855224609375,196.23046875,192.47311401367188,206.4561004638672,212.35629272460938,213.5223846435547,211.7782440185547,215.94422912597656,213.5721893310547,208.97764587402344,206.79498291015625,207.4427947998047,208.36968994140625,212.5356903076172,213.38284301757812,209.9144744873047,216.02395629882812,219.53216552734375,220.80787658691406,225.5818328857422,227.056884765625,227.9139862060547,232.1995849609375,226.80772399902344,229.76776123046875,233.61483764648438,234.03343200683594,228.1133270263672,223.42906188964844,223.55862426757812,223.20982360839844,224.25628662109375,217.80796813964844,216.76148986816406,217.22991943359375,217.50897216796875,218.0670928955078,221.3361053466797,217.62855529785156,219.12355041503906,208.56903076171875,206.53585815429688,209.11717224121094,212.59548950195312,215.51568603515625,217.0522918701172,220.78407287597656,221.23309326171875,224.22650146484375,225.5535888671875,225.39393615722656,226.0125732421875,225.90280151367188,224.03692626953125,226.3418426513672,226.68109130859375,227.5292205810547,225.99261474609375,229.28536987304688,228.49710083007812,222.28077697753906,220.36500549316406,221.89163208007812,220.3350830078125,220.42486572265625,219.6266326904297,222.1710205078125,222.28077697753906,222.01138305664062,215.84495544433594,216.31390380859375,220.20535278320312,228.3673858642578,227.6988525390625,225.97265625,226.8706817626953,225.8728790283203,227.02035522460938,227.2897491455078,232.4883270263672,225.71324157714844,226.281982421875,225.17440795898438,226.30194091796875,221.20315551757812,225.27420043945312,229.03591918945312,228.53701782226562,227.05029296875,230.79205322265625,233.33645629882812,231.27099609375,231.6401824951172,234.48391723632812,235.96067810058594,235.342041015625,230.25323486328125,230.0636749267578,230.9018096923828,232.88743591308594,233.15684509277344,229.5946807861328,225.4138946533203,222.42047119140625,221.52244567871094,222.95928955078125,222.23089599609375,226.98043823242188,226.7107391357422,223.98373413085938,223.98373413085938,224.8727569580078,227.9693603515625,224.7528839111328,227.7695770263672,228.02928161621094,228.7484893798828,228.26902770996094,229.61753845214844,232.61424255371094,234.8018341064453,234.67198181152344,237.06935119628906,239.3268585205078,242.3834991455078,242.74310302734375,242.7730712890625,242.5732879638672,246.47900390625,247.4978790283203,246.2192840576172,247.68768310546875,247.85748291015625,250.7642822265625,253.20159912109375,247.77757263183594,249.51565551757812,254.21051025390625,254.98965454101562,257.91644287109375,258.7355041503906,255.30929565429688,251.9230194091797,250.1449737548828],\"yaxis\":\"y\",\"type\":\"scattergl\"}],                        {\"template\":{\"data\":{\"barpolar\":[{\"marker\":{\"line\":{\"color\":\"rgb(17,17,17)\",\"width\":0.5},\"pattern\":{\"fillmode\":\"overlay\",\"size\":10,\"solidity\":0.2}},\"type\":\"barpolar\"}],\"bar\":[{\"error_x\":{\"color\":\"#f2f5fa\"},\"error_y\":{\"color\":\"#f2f5fa\"},\"marker\":{\"line\":{\"color\":\"rgb(17,17,17)\",\"width\":0.5},\"pattern\":{\"fillmode\":\"overlay\",\"size\":10,\"solidity\":0.2}},\"type\":\"bar\"}],\"carpet\":[{\"aaxis\":{\"endlinecolor\":\"#A2B1C6\",\"gridcolor\":\"#506784\",\"linecolor\":\"#506784\",\"minorgridcolor\":\"#506784\",\"startlinecolor\":\"#A2B1C6\"},\"baxis\":{\"endlinecolor\":\"#A2B1C6\",\"gridcolor\":\"#506784\",\"linecolor\":\"#506784\",\"minorgridcolor\":\"#506784\",\"startlinecolor\":\"#A2B1C6\"},\"type\":\"carpet\"}],\"choropleth\":[{\"colorbar\":{\"outlinewidth\":0,\"ticks\":\"\"},\"type\":\"choropleth\"}],\"contourcarpet\":[{\"colorbar\":{\"outlinewidth\":0,\"ticks\":\"\"},\"type\":\"contourcarpet\"}],\"contour\":[{\"colorbar\":{\"outlinewidth\":0,\"ticks\":\"\"},\"colorscale\":[[0.0,\"#0d0887\"],[0.1111111111111111,\"#46039f\"],[0.2222222222222222,\"#7201a8\"],[0.3333333333333333,\"#9c179e\"],[0.4444444444444444,\"#bd3786\"],[0.5555555555555556,\"#d8576b\"],[0.6666666666666666,\"#ed7953\"],[0.7777777777777778,\"#fb9f3a\"],[0.8888888888888888,\"#fdca26\"],[1.0,\"#f0f921\"]],\"type\":\"contour\"}],\"heatmapgl\":[{\"colorbar\":{\"outlinewidth\":0,\"ticks\":\"\"},\"colorscale\":[[0.0,\"#0d0887\"],[0.1111111111111111,\"#46039f\"],[0.2222222222222222,\"#7201a8\"],[0.3333333333333333,\"#9c179e\"],[0.4444444444444444,\"#bd3786\"],[0.5555555555555556,\"#d8576b\"],[0.6666666666666666,\"#ed7953\"],[0.7777777777777778,\"#fb9f3a\"],[0.8888888888888888,\"#fdca26\"],[1.0,\"#f0f921\"]],\"type\":\"heatmapgl\"}],\"heatmap\":[{\"colorbar\":{\"outlinewidth\":0,\"ticks\":\"\"},\"colorscale\":[[0.0,\"#0d0887\"],[0.1111111111111111,\"#46039f\"],[0.2222222222222222,\"#7201a8\"],[0.3333333333333333,\"#9c179e\"],[0.4444444444444444,\"#bd3786\"],[0.5555555555555556,\"#d8576b\"],[0.6666666666666666,\"#ed7953\"],[0.7777777777777778,\"#fb9f3a\"],[0.8888888888888888,\"#fdca26\"],[1.0,\"#f0f921\"]],\"type\":\"heatmap\"}],\"histogram2dcontour\":[{\"colorbar\":{\"outlinewidth\":0,\"ticks\":\"\"},\"colorscale\":[[0.0,\"#0d0887\"],[0.1111111111111111,\"#46039f\"],[0.2222222222222222,\"#7201a8\"],[0.3333333333333333,\"#9c179e\"],[0.4444444444444444,\"#bd3786\"],[0.5555555555555556,\"#d8576b\"],[0.6666666666666666,\"#ed7953\"],[0.7777777777777778,\"#fb9f3a\"],[0.8888888888888888,\"#fdca26\"],[1.0,\"#f0f921\"]],\"type\":\"histogram2dcontour\"}],\"histogram2d\":[{\"colorbar\":{\"outlinewidth\":0,\"ticks\":\"\"},\"colorscale\":[[0.0,\"#0d0887\"],[0.1111111111111111,\"#46039f\"],[0.2222222222222222,\"#7201a8\"],[0.3333333333333333,\"#9c179e\"],[0.4444444444444444,\"#bd3786\"],[0.5555555555555556,\"#d8576b\"],[0.6666666666666666,\"#ed7953\"],[0.7777777777777778,\"#fb9f3a\"],[0.8888888888888888,\"#fdca26\"],[1.0,\"#f0f921\"]],\"type\":\"histogram2d\"}],\"histogram\":[{\"marker\":{\"pattern\":{\"fillmode\":\"overlay\",\"size\":10,\"solidity\":0.2}},\"type\":\"histogram\"}],\"mesh3d\":[{\"colorbar\":{\"outlinewidth\":0,\"ticks\":\"\"},\"type\":\"mesh3d\"}],\"parcoords\":[{\"line\":{\"colorbar\":{\"outlinewidth\":0,\"ticks\":\"\"}},\"type\":\"parcoords\"}],\"pie\":[{\"automargin\":true,\"type\":\"pie\"}],\"scatter3d\":[{\"line\":{\"colorbar\":{\"outlinewidth\":0,\"ticks\":\"\"}},\"marker\":{\"colorbar\":{\"outlinewidth\":0,\"ticks\":\"\"}},\"type\":\"scatter3d\"}],\"scattercarpet\":[{\"marker\":{\"colorbar\":{\"outlinewidth\":0,\"ticks\":\"\"}},\"type\":\"scattercarpet\"}],\"scattergeo\":[{\"marker\":{\"colorbar\":{\"outlinewidth\":0,\"ticks\":\"\"}},\"type\":\"scattergeo\"}],\"scattergl\":[{\"marker\":{\"line\":{\"color\":\"#283442\"}},\"type\":\"scattergl\"}],\"scattermapbox\":[{\"marker\":{\"colorbar\":{\"outlinewidth\":0,\"ticks\":\"\"}},\"type\":\"scattermapbox\"}],\"scatterpolargl\":[{\"marker\":{\"colorbar\":{\"outlinewidth\":0,\"ticks\":\"\"}},\"type\":\"scatterpolargl\"}],\"scatterpolar\":[{\"marker\":{\"colorbar\":{\"outlinewidth\":0,\"ticks\":\"\"}},\"type\":\"scatterpolar\"}],\"scatter\":[{\"marker\":{\"line\":{\"color\":\"#283442\"}},\"type\":\"scatter\"}],\"scatterternary\":[{\"marker\":{\"colorbar\":{\"outlinewidth\":0,\"ticks\":\"\"}},\"type\":\"scatterternary\"}],\"surface\":[{\"colorbar\":{\"outlinewidth\":0,\"ticks\":\"\"},\"colorscale\":[[0.0,\"#0d0887\"],[0.1111111111111111,\"#46039f\"],[0.2222222222222222,\"#7201a8\"],[0.3333333333333333,\"#9c179e\"],[0.4444444444444444,\"#bd3786\"],[0.5555555555555556,\"#d8576b\"],[0.6666666666666666,\"#ed7953\"],[0.7777777777777778,\"#fb9f3a\"],[0.8888888888888888,\"#fdca26\"],[1.0,\"#f0f921\"]],\"type\":\"surface\"}],\"table\":[{\"cells\":{\"fill\":{\"color\":\"#506784\"},\"line\":{\"color\":\"rgb(17,17,17)\"}},\"header\":{\"fill\":{\"color\":\"#2a3f5f\"},\"line\":{\"color\":\"rgb(17,17,17)\"}},\"type\":\"table\"}]},\"layout\":{\"annotationdefaults\":{\"arrowcolor\":\"#f2f5fa\",\"arrowhead\":0,\"arrowwidth\":1},\"autotypenumbers\":\"strict\",\"coloraxis\":{\"colorbar\":{\"outlinewidth\":0,\"ticks\":\"\"}},\"colorscale\":{\"diverging\":[[0,\"#8e0152\"],[0.1,\"#c51b7d\"],[0.2,\"#de77ae\"],[0.3,\"#f1b6da\"],[0.4,\"#fde0ef\"],[0.5,\"#f7f7f7\"],[0.6,\"#e6f5d0\"],[0.7,\"#b8e186\"],[0.8,\"#7fbc41\"],[0.9,\"#4d9221\"],[1,\"#276419\"]],\"sequential\":[[0.0,\"#0d0887\"],[0.1111111111111111,\"#46039f\"],[0.2222222222222222,\"#7201a8\"],[0.3333333333333333,\"#9c179e\"],[0.4444444444444444,\"#bd3786\"],[0.5555555555555556,\"#d8576b\"],[0.6666666666666666,\"#ed7953\"],[0.7777777777777778,\"#fb9f3a\"],[0.8888888888888888,\"#fdca26\"],[1.0,\"#f0f921\"]],\"sequentialminus\":[[0.0,\"#0d0887\"],[0.1111111111111111,\"#46039f\"],[0.2222222222222222,\"#7201a8\"],[0.3333333333333333,\"#9c179e\"],[0.4444444444444444,\"#bd3786\"],[0.5555555555555556,\"#d8576b\"],[0.6666666666666666,\"#ed7953\"],[0.7777777777777778,\"#fb9f3a\"],[0.8888888888888888,\"#fdca26\"],[1.0,\"#f0f921\"]]},\"colorway\":[\"#636efa\",\"#EF553B\",\"#00cc96\",\"#ab63fa\",\"#FFA15A\",\"#19d3f3\",\"#FF6692\",\"#B6E880\",\"#FF97FF\",\"#FECB52\"],\"font\":{\"color\":\"#f2f5fa\"},\"geo\":{\"bgcolor\":\"rgb(17,17,17)\",\"lakecolor\":\"rgb(17,17,17)\",\"landcolor\":\"rgb(17,17,17)\",\"showlakes\":true,\"showland\":true,\"subunitcolor\":\"#506784\"},\"hoverlabel\":{\"align\":\"left\"},\"hovermode\":\"closest\",\"mapbox\":{\"style\":\"dark\"},\"paper_bgcolor\":\"rgb(17,17,17)\",\"plot_bgcolor\":\"rgb(17,17,17)\",\"polar\":{\"angularaxis\":{\"gridcolor\":\"#506784\",\"linecolor\":\"#506784\",\"ticks\":\"\"},\"bgcolor\":\"rgb(17,17,17)\",\"radialaxis\":{\"gridcolor\":\"#506784\",\"linecolor\":\"#506784\",\"ticks\":\"\"}},\"scene\":{\"xaxis\":{\"backgroundcolor\":\"rgb(17,17,17)\",\"gridcolor\":\"#506784\",\"gridwidth\":2,\"linecolor\":\"#506784\",\"showbackground\":true,\"ticks\":\"\",\"zerolinecolor\":\"#C8D4E3\"},\"yaxis\":{\"backgroundcolor\":\"rgb(17,17,17)\",\"gridcolor\":\"#506784\",\"gridwidth\":2,\"linecolor\":\"#506784\",\"showbackground\":true,\"ticks\":\"\",\"zerolinecolor\":\"#C8D4E3\"},\"zaxis\":{\"backgroundcolor\":\"rgb(17,17,17)\",\"gridcolor\":\"#506784\",\"gridwidth\":2,\"linecolor\":\"#506784\",\"showbackground\":true,\"ticks\":\"\",\"zerolinecolor\":\"#C8D4E3\"}},\"shapedefaults\":{\"line\":{\"color\":\"#f2f5fa\"}},\"sliderdefaults\":{\"bgcolor\":\"#C8D4E3\",\"bordercolor\":\"rgb(17,17,17)\",\"borderwidth\":1,\"tickwidth\":0},\"ternary\":{\"aaxis\":{\"gridcolor\":\"#506784\",\"linecolor\":\"#506784\",\"ticks\":\"\"},\"baxis\":{\"gridcolor\":\"#506784\",\"linecolor\":\"#506784\",\"ticks\":\"\"},\"bgcolor\":\"rgb(17,17,17)\",\"caxis\":{\"gridcolor\":\"#506784\",\"linecolor\":\"#506784\",\"ticks\":\"\"}},\"title\":{\"x\":0.05},\"updatemenudefaults\":{\"bgcolor\":\"#506784\",\"borderwidth\":0},\"xaxis\":{\"automargin\":true,\"gridcolor\":\"#283442\",\"linecolor\":\"#506784\",\"ticks\":\"\",\"title\":{\"standoff\":15},\"zerolinecolor\":\"#283442\",\"zerolinewidth\":2},\"yaxis\":{\"automargin\":true,\"gridcolor\":\"#283442\",\"linecolor\":\"#506784\",\"ticks\":\"\",\"title\":{\"standoff\":15},\"zerolinecolor\":\"#283442\",\"zerolinewidth\":2}}},\"xaxis\":{\"anchor\":\"y\",\"domain\":[0.0,1.0],\"title\":{\"text\":\"Date\"}},\"yaxis\":{\"anchor\":\"x\",\"domain\":[0.0,1.0],\"title\":{\"text\":\"Close Price ($)\"}},\"legend\":{\"tracegroupgap\":0},\"title\":{\"text\":\"Interactive Stock Price Chart\"}},                        {\"responsive\": true}                    ).then(function(){\n",
       "                            \n",
       "var gd = document.getElementById('b82cb04e-0bd2-4382-8894-1f392306a4ae');\n",
       "var x = new MutationObserver(function (mutations, observer) {{\n",
       "        var display = window.getComputedStyle(gd).display;\n",
       "        if (!display || display === 'none') {{\n",
       "            console.log([gd, 'removed!']);\n",
       "            Plotly.purge(gd);\n",
       "            observer.disconnect();\n",
       "        }}\n",
       "}});\n",
       "\n",
       "// Listen for the removal of the full notebook cells\n",
       "var notebookContainer = gd.closest('#notebook-container');\n",
       "if (notebookContainer) {{\n",
       "    x.observe(notebookContainer, {childList: true});\n",
       "}}\n",
       "\n",
       "// Listen for the clearing of the current output cell\n",
       "var outputEl = gd.closest('.output');\n",
       "if (outputEl) {{\n",
       "    x.observe(outputEl, {childList: true});\n",
       "}}\n",
       "\n",
       "                        })                };                });            </script>        </div>"
      ]
     },
     "metadata": {},
     "output_type": "display_data"
    }
   ],
   "source": [
    "fig = px.line(df, x=\"market_date\", y=\"close_price\", title=\"Interactive Stock Price Chart\",\n",
    "              labels={\"close_price\": \"Close Price ($)\", \"market_date\": \"Date\"}, template=\"plotly_dark\")\n",
    "\n",
    "fig.show()"
   ]
  },
  {
   "cell_type": "code",
   "execution_count": 110,
   "id": "b7cb7eee-48cc-4e83-a64a-b0b92e02aeb2",
   "metadata": {},
   "outputs": [],
   "source": [
    "#PERCENTAGE CHANE IN STOCK PRICE\n",
    "query = \"\"\"\n",
    "SELECT market_date, close_price,\n",
    "       LAG(close_price) OVER (ORDER BY market_date) AS prev_close,\n",
    "       (close_price - LAG(close_price) OVER (ORDER BY market_date)) / LAG(close_price) OVER (ORDER BY market_date) * 100 AS daily_return\n",
    "FROM stock_prices\n",
    "\"\"\""
   ]
  },
  {
   "cell_type": "code",
   "execution_count": 111,
   "id": "ef6190b4-633a-4907-89f7-03efa7334f5a",
   "metadata": {},
   "outputs": [
    {
     "name": "stdout",
     "output_type": "stream",
     "text": [
      "2025-03-18 12:47:35,663 INFO sqlalchemy.engine.Engine BEGIN (implicit)\n",
      "2025-03-18 12:47:35,664 INFO sqlalchemy.engine.Engine DESCRIBE `stock_market`.`\n",
      "SELECT market_date, close_price,\n",
      "       LAG(close_price) OVER (ORDER BY market_date) AS prev_close,\n",
      "       (close_price - LAG(close_price) OVER (ORDER BY market_date)) / LAG(close_price) OVER (ORDER BY market_date) * 100 AS daily_return\n",
      "FROM stock_prices\n",
      "`\n",
      "2025-03-18 12:47:35,665 INFO sqlalchemy.engine.Engine [raw sql] {}\n",
      "2025-03-18 12:47:35,666 INFO sqlalchemy.engine.Engine \n",
      "SELECT market_date, close_price,\n",
      "       LAG(close_price) OVER (ORDER BY market_date) AS prev_close,\n",
      "       (close_price - LAG(close_price) OVER (ORDER BY market_date)) / LAG(close_price) OVER (ORDER BY market_date) * 100 AS daily_return\n",
      "FROM stock_prices\n",
      "\n",
      "2025-03-18 12:47:35,667 INFO sqlalchemy.engine.Engine [raw sql] {}\n",
      "2025-03-18 12:47:35,890 INFO sqlalchemy.engine.Engine ROLLBACK\n"
     ]
    }
   ],
   "source": [
    "df = pd.read_sql(query, engine)"
   ]
  },
  {
   "cell_type": "code",
   "execution_count": 112,
   "id": "ffe8a39c-4370-4b30-830f-fc1c4bd415f3",
   "metadata": {},
   "outputs": [
    {
     "data": {
      "image/png": "[encoded data removed]",
      "text/plain": [
       "<Figure size 1200x600 with 1 Axes>"
      ]
     },
     "metadata": {},
     "output_type": "display_data"
    }
   ],
   "source": [
    "# Plot Daily Returns\n",
    "#Identifying high volatile periods\n",
    "plt.figure(figsize=(12, 6))\n",
    "sns.lineplot(x=df['market_date'], y=df['daily_return'], label=\"Daily Return\", color=\"green\")\n",
    "plt.axhline(y=0, linestyle=\"dashed\", color=\"black\")  # Baseline\n",
    "plt.title(\"Daily Returns of Stock\")\n",
    "plt.ylabel(\"Daily Return (%)\")\n",
    "plt.show()"
   ]
  },
  {
   "cell_type": "code",
   "execution_count": 113,
   "id": "a8e2b349-6682-4c3d-a238-372e7b8d9ad1",
   "metadata": {},
   "outputs": [
    {
     "name": "stdout",
     "output_type": "stream",
     "text": [
      "2025-03-18 12:47:36,691 INFO sqlalchemy.engine.Engine BEGIN (implicit)\n",
      "2025-03-18 12:47:36,691 INFO sqlalchemy.engine.Engine DESCRIBE `stock_market`.`\n",
      "SELECT market_date, close_price,\n",
      "       AVG(close_price) OVER (ORDER BY market_date ROWS BETWEEN 49 PRECEDING AND CURRENT ROW) AS ma_50,\n",
      "       AVG(close_price) OVER (ORDER BY market_date ROWS BETWEEN 199 PRECEDING AND CURRENT ROW) AS ma_200\n",
      "FROM stock_prices\n",
      "`\n",
      "2025-03-18 12:47:36,691 INFO sqlalchemy.engine.Engine [raw sql] {}\n",
      "2025-03-18 12:47:36,691 INFO sqlalchemy.engine.Engine \n",
      "SELECT market_date, close_price,\n",
      "       AVG(close_price) OVER (ORDER BY market_date ROWS BETWEEN 49 PRECEDING AND CURRENT ROW) AS ma_50,\n",
      "       AVG(close_price) OVER (ORDER BY market_date ROWS BETWEEN 199 PRECEDING AND CURRENT ROW) AS ma_200\n",
      "FROM stock_prices\n",
      "\n",
      "2025-03-18 12:47:36,691 INFO sqlalchemy.engine.Engine [raw sql] {}\n",
      "2025-03-18 12:47:36,754 INFO sqlalchemy.engine.Engine ROLLBACK\n"
     ]
    }
   ],
   "source": [
    "query =\"\"\"\n",
    "SELECT market_date, close_price,\n",
    "       AVG(close_price) OVER (ORDER BY market_date ROWS BETWEEN 49 PRECEDING AND CURRENT ROW) AS ma_50,\n",
    "       AVG(close_price) OVER (ORDER BY market_date ROWS BETWEEN 199 PRECEDING AND CURRENT ROW) AS ma_200\n",
    "FROM stock_prices\n",
    "\"\"\"\n",
    "df = pd.read_sql(query, engine)"
   ]
  },
  {
   "cell_type": "code",
   "execution_count": 114,
   "id": "56141651-1375-48dc-9222-61a23ad774ad",
   "metadata": {},
   "outputs": [
    {
     "data": {
      "image/png": "[encoded data removed]",
      "text/plain": [
       "<Figure size 1200x600 with 1 Axes>"
      ]
     },
     "metadata": {},
     "output_type": "display_data"
    }
   ],
   "source": [
    "# Plot Moving Averages\n",
    "plt.figure(figsize=(12, 6))\n",
    "sns.lineplot(x=df['market_date'], y=df['close_price'], label=\"Close Price\", color=\"blue\")\n",
    "sns.lineplot(x=df['market_date'], y=df['ma_50'], label=\"50-Day MA\", linestyle=\"dashed\", color=\"red\")\n",
    "sns.lineplot(x=df['market_date'], y=df['ma_200'], label=\"200-Day MA\", linestyle=\"dashed\", color=\"green\")\n",
    "plt.title(\"Stock Price with Moving Averages\")\n",
    "plt.legend()\n",
    "plt.show()"
   ]
  },
  {
   "cell_type": "code",
   "execution_count": 115,
   "id": "26b5d6f4-3acf-4aae-9c41-700e6d513ce3",
   "metadata": {},
   "outputs": [],
   "source": [
    "query = \"\"\"\n",
    "SELECT market_date, close_price,\n",
    "       close_price - LAG(close_price) OVER (ORDER BY market_date) AS price_change,\n",
    "       CASE \n",
    "           WHEN close_price - LAG(close_price) OVER (ORDER BY market_date) > 0 THEN close_price - LAG(close_price) OVER (ORDER BY market_date)\n",
    "           ELSE 0\n",
    "       END AS gain,\n",
    "       CASE \n",
    "           WHEN close_price - LAG(close_price) OVER (ORDER BY market_date) < 0 THEN ABS(close_price - LAG(close_price) OVER (ORDER BY market_date))\n",
    "           ELSE 0\n",
    "       END AS loss\n",
    "FROM stock_prices;\n",
    "\"\"\""
   ]
  },
  {
   "cell_type": "code",
   "execution_count": 116,
   "id": "84de3635-0846-409e-bf88-6f88ca147c7f",
   "metadata": {},
   "outputs": [
    {
     "name": "stdout",
     "output_type": "stream",
     "text": [
      "2025-03-18 12:47:37,720 INFO sqlalchemy.engine.Engine BEGIN (implicit)\n",
      "2025-03-18 12:47:37,720 INFO sqlalchemy.engine.Engine DESCRIBE `stock_market`.`\n",
      "SELECT market_date, close_price,\n",
      "       close_price - LAG(close_price) OVER (ORDER BY market_date) AS price_change,\n",
      "       CASE \n",
      "           WHEN close_price - LAG(close_price) OVER (ORDER BY market_date) > 0 THEN close_price - LAG(close_price) OVER (ORDER BY market_date)\n",
      "           ELSE 0\n",
      "       END AS gain,\n",
      "       CASE \n",
      "           WHEN close_price - LAG(close_price) OVER (ORDER BY market_date) < 0 THEN ABS(close_price - LAG(close_price) OVER (ORDER BY market_date))\n",
      "           ELSE 0\n",
      "       END AS loss\n",
      "FROM stock_prices;\n",
      "`\n",
      "2025-03-18 12:47:37,720 INFO sqlalchemy.engine.Engine [raw sql] {}\n",
      "2025-03-18 12:47:37,720 INFO sqlalchemy.engine.Engine \n",
      "SELECT market_date, close_price,\n",
      "       close_price - LAG(close_price) OVER (ORDER BY market_date) AS price_change,\n",
      "       CASE \n",
      "           WHEN close_price - LAG(close_price) OVER (ORDER BY market_date) > 0 THEN close_price - LAG(close_price) OVER (ORDER BY market_date)\n",
      "           ELSE 0\n",
      "       END AS gain,\n",
      "       CASE \n",
      "           WHEN close_price - LAG(close_price) OVER (ORDER BY market_date) < 0 THEN ABS(close_price - LAG(close_price) OVER (ORDER BY market_date))\n",
      "           ELSE 0\n",
      "       END AS loss\n",
      "FROM stock_prices;\n",
      "\n",
      "2025-03-18 12:47:37,720 INFO sqlalchemy.engine.Engine [raw sql] {}\n",
      "2025-03-18 12:47:37,797 INFO sqlalchemy.engine.Engine ROLLBACK\n"
     ]
    }
   ],
   "source": [
    "df = pd.read_sql(query, engine)"
   ]
  },
  {
   "cell_type": "code",
   "execution_count": 117,
   "id": "27ad7739-9605-4bcd-81d9-616c2f2adb5e",
   "metadata": {},
   "outputs": [],
   "source": [
    "# Compute RSI\n",
    "df['avg_gain'] = df['gain'].rolling(window=14).mean()\n",
    "df['avg_loss'] = df['loss'].rolling(window=14).mean()\n",
    "df['rs'] = df['avg_gain'] / df['avg_loss']\n",
    "df['rsi'] = 100 - (100 / (1 + df['rs']))"
   ]
  },
  {
   "cell_type": "code",
   "execution_count": 118,
   "id": "9edd891c-c314-410e-9fea-d067deee2e0c",
   "metadata": {},
   "outputs": [
    {
     "data": {
      "image/png": "[encoded data removed]",
      "text/plain": [
       "<Figure size 1200x600 with 1 Axes>"
      ]
     },
     "metadata": {},
     "output_type": "display_data"
    }
   ],
   "source": [
    "# Plot RSI\n",
    "plt.figure(figsize=(12, 6))\n",
    "sns.lineplot(x=df['market_date'], y=df['rsi'], label=\"RSI\", color=\"purple\")\n",
    "plt.axhline(70, linestyle=\"dashed\", color=\"red\", label=\"Overbought (70)\")\n",
    "plt.axhline(30, linestyle=\"dashed\", color=\"green\", label=\"Oversold (30)\")\n",
    "plt.title(\"Relative Strength Index (RSI)\")\n",
    "plt.legend()\n",
    "plt.show()"
   ]
  },
  {
   "cell_type": "code",
   "execution_count": 119,
   "id": "0ff00df8-e2d1-477a-aaee-404e46193ec4",
   "metadata": {},
   "outputs": [
    {
     "name": "stderr",
     "output_type": "stream",
     "text": [
      "\n",
      "*********************100%***********************]  4 of 4 completed"
     ]
    },
    {
     "data": {
      "image/png": "[encoded data removed]",
      "text/plain": [
       "<Figure size 800x600 with 2 Axes>"
      ]
     },
     "metadata": {},
     "output_type": "display_data"
    }
   ],
   "source": [
    "#Correlation Between Stocks\n",
    "tickers = [\"AAPL\", \"MSFT\", \"GOOGL\", \"TSLA\"]\n",
    "df2 = yf.download(tickers, start=\"2020-01-01\", end=\"2024-01-01\")[\"Close\"]\n",
    "\n",
    "# Compute correlation matrix\n",
    "corr_matrix = df2.pct_change().corr()\n",
    "\n",
    "# Plot heatmap\n",
    "plt.figure(figsize=(8, 6))\n",
    "sns.heatmap(corr_matrix, annot=True, cmap=\"coolwarm\", linewidths=0.5)\n",
    "plt.title(\"Stock Correlation Matrix\")\n",
    "plt.show()"
   ]
  },
  {
   "cell_type": "code",
   "execution_count": null,
   "id": "254ade3a-a06e-4dba-bde0-363dbc6033eb",
   "metadata": {},
   "outputs": [],
   "source": []
  }
 ],
 "metadata": {
  "kernelspec": {
   "display_name": "Python 3 (ipykernel)",
   "language": "python",
   "name": "python3"
  },
  "language_info": {
   "codemirror_mode": {
    "name": "ipython",
    "version": 3
   },
   "file_extension": ".py",
   "mimetype": "text/x-python",
   "name": "python",
   "nbconvert_exporter": "python",
   "pygments_lexer": "ipython3",
   "version": "3.12.3"
  }
 },
 "nbformat": 4,
 "nbformat_minor": 5
}
